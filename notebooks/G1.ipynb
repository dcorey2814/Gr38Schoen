{
 "cells": [
  {
   "cell_type": "markdown",
   "metadata": {},
   "source": [
    "# Group $\\mathsf{G}_1$\n",
    "\n",
    "The combinatorial types $\\mathsf{w}$ belonging to $\\mathsf{G}_1$ are those vectors ```\\mathsf{w}``` such that the tight-span $\\mathsf{TS}(\\mathsf{w})$ is vertex-intersecting. In this notebook, we verify that this property holds."
   ]
  },
  {
   "cell_type": "code",
   "execution_count": null,
   "metadata": {},
   "outputs": [],
   "source": [
    "using Oscar\n",
    "using Combinatorics\n",
    "pm = Polymake;"
   ]
  },
  {
   "cell_type": "code",
   "execution_count": null,
   "metadata": {},
   "outputs": [],
   "source": [
    "cd(\"..\")"
   ]
  },
  {
   "cell_type": "code",
   "execution_count": null,
   "metadata": {},
   "outputs": [],
   "source": [
    "currentDir = pwd()\n",
    "include(joinpath(currentDir, \"src/inputData38.jl\"));\n",
    "include(joinpath(currentDir, \"src/fileHandling.jl\"));\n",
    "include(joinpath(currentDir, \"src/tscCoordRing.jl\"));\n",
    "include(joinpath(currentDir, \"src/matroidalSubd.jl\"));\n",
    "include(joinpath(currentDir, \"src/Bmaximal.jl\"));\n",
    "include(joinpath(currentDir, \"src/simplifyIdeal.jl\"));"
   ]
  },
  {
   "cell_type": "code",
   "execution_count": null,
   "metadata": {},
   "outputs": [],
   "source": [
    "G1Path = joinpath(currentDir,\"groupsFinal/G1.dat\")\n",
    "G1 = file2SetVectors(G1Path);"
   ]
  },
  {
   "cell_type": "code",
   "execution_count": null,
   "metadata": {},
   "outputs": [],
   "source": [
    "commonBases = Dict{Vector{Int64}, Vector{Vector{Int64}}}()\n",
    "for w in G1\n",
    "    subd = SubdivisionOfPoints(vDelta38[:,2:9], -w)\n",
    "    Mats = subd2Matroids(subd, 3, 8)\n",
    "    basesMats = [bases(Q) for Q in Mats] \n",
    "    commonBases_w = intersect!(basesMats...)\n",
    "    commonBases[w] = commonBases_w\n",
    "end"
   ]
  },
  {
   "cell_type": "markdown",
   "metadata": {},
   "source": [
    "```commonBases``` is a ``` Dict{Vector{Int64}, Vector{Vector{Int64}}}``` whose keys are the elements ```w``` of ```G1```, and the value on ```w``` is the list of bases common to the matroids of the maximal cells of the subdivision $\\mathcal{Q}(\\mathsf{w})$."
   ]
  },
  {
   "cell_type": "code",
   "execution_count": null,
   "metadata": {},
   "outputs": [],
   "source": [
    "all([length(commonBases[w]) > 0 for w in G1 ])"
   ]
  },
  {
   "cell_type": "markdown",
   "metadata": {},
   "source": [
    "Returns ```true```, and hence verifies that $\\mathsf{TS}(\\mathsf{w})$ is vertex-intersecting for each $\\mathsf{w}$ in $\\mathsf{G}_1$. "
   ]
  }
 ],
 "metadata": {
  "kernelspec": {
   "display_name": "Julia 1.7.1",
   "language": "julia",
   "name": "julia-1.7"
  },
  "language_info": {
   "file_extension": ".jl",
   "mimetype": "application/julia",
   "name": "julia",
   "version": "1.7.3"
  }
 },
 "nbformat": 4,
 "nbformat_minor": 4
}
