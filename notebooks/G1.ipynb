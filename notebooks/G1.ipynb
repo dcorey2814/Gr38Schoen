{
 "cells": [
  {
   "cell_type": "markdown",
   "metadata": {},
   "source": [
    "# Group $\\mathsf{G}_1$\n",
    "\n",
    "The combinatorial types $\\mathsf{w}$ belonging to $\\mathsf{G}_1$ are those vectors ```\\mathsf{w}``` such that the tight-span $\\mathsf{TS}(\\mathsf{w})$ is vertex-intersecting. In this notebook, we verify that this property holds."
   ]
  },
  {
   "cell_type": "code",
   "execution_count": 1,
   "metadata": {},
   "outputs": [
    {
     "name": "stdout",
     "output_type": "stream",
     "text": [
      "  ___   ____   ____    _    ____\n",
      " / _ \\ / ___| / ___|  / \\  |  _ \\   |  Combining ANTIC, GAP, Polymake, Singular\n",
      "| | | |\\___ \\| |     / _ \\ | |_) |  |  Type \"?Oscar\" for more information\n",
      "| |_| | ___) | |___ / ___ \\|  _ <   |  Manual: https://docs.oscar-system.org\n",
      " \\___/ |____/ \\____/_/   \\_\\_| \\_\\  |  Version 1.0.2\n"
     ]
    }
   ],
   "source": [
    "using Oscar\n",
    "using Combinatorics\n",
    "pm = Polymake;"
   ]
  },
  {
   "cell_type": "code",
   "execution_count": 2,
   "metadata": {},
   "outputs": [],
   "source": [
    "cd(\"..\")"
   ]
  },
  {
   "cell_type": "code",
   "execution_count": 3,
   "metadata": {},
   "outputs": [],
   "source": [
    "currentDir = pwd()\n",
    "include(joinpath(currentDir, \"src/inputData38.jl\"));\n",
    "include(joinpath(currentDir, \"src/fileHandling.jl\"));\n",
    "include(joinpath(currentDir, \"src/tscCoordRing.jl\"));\n",
    "include(joinpath(currentDir, \"src/matroidalSubd.jl\"));\n",
    "include(joinpath(currentDir, \"src/Bmaximal.jl\"));\n",
    "include(joinpath(currentDir, \"src/simplifyIdeal.jl\"));"
   ]
  },
  {
   "cell_type": "code",
   "execution_count": 4,
   "metadata": {},
   "outputs": [],
   "source": [
    "G1Path = joinpath(currentDir,\"groupsFinal/G1.dat\")\n",
    "G1 = file2SetVectors(G1Path);"
   ]
  },
  {
   "cell_type": "code",
   "execution_count": 5,
   "metadata": {},
   "outputs": [],
   "source": [
    "#vDelta38[:,2:9]\n",
    "#w=G1[1]\n",
    "#subdivision_of_points(vDelta38[:,2:9], -w)\n",
    "\n",
    "commonBases = Dict{Vector{Int64}, Vector{Vector{Int64}}}()\n",
    "for w in G1\n",
    "    subd = subdivision_of_points(vDelta38[:,2:9], -w)\n",
    "    Mats = subd2Matroids(subd, 3, 8)\n",
    "    basesMats = [bases(Q) for Q in Mats] \n",
    "    commonBases_w = intersect!(basesMats...)\n",
    "    commonBases[w] = commonBases_w\n",
    "end"
   ]
  },
  {
   "cell_type": "code",
   "execution_count": 9,
   "metadata": {},
   "outputs": [
    {
     "ename": "LoadError",
     "evalue": "MethodError: no method matching SubdivisionOfPoints(::Matrix{Int64}, ::Vector{Int64})",
     "output_type": "error",
     "traceback": [
      "MethodError: no method matching SubdivisionOfPoints(::Matrix{Int64}, ::Vector{Int64})",
      "",
      "Stacktrace:",
      " [1] top-level scope",
      "   @ In[9]:3"
     ]
    }
   ],
   "source": [
    "commonBases = Dict{Vector{Int64}, Vector{Vector{Int64}}}()\n",
    "for w in G1\n",
    "    subd = SubdivisionOfPoints(vDelta38[:,2:9], -w)\n",
    "    Mats = subd2Matroids(subd, 3, 8)\n",
    "    basesMats = [bases(Q) for Q in Mats] \n",
    "    commonBases_w = intersect!(basesMats...)\n",
    "    commonBases[w] = commonBases_w\n",
    "end"
   ]
  },
  {
   "cell_type": "markdown",
   "metadata": {},
   "source": [
    "```commonBases``` is a ``` Dict{Vector{Int64}, Vector{Vector{Int64}}}``` whose keys are the elements ```w``` of ```G1```, and the value on ```w``` is the list of bases common to the matroids of the maximal cells of the subdivision $\\mathcal{Q}(\\mathsf{w})$."
   ]
  },
  {
   "cell_type": "code",
   "execution_count": null,
   "metadata": {},
   "outputs": [],
   "source": [
    "all([length(commonBases[w]) > 0 for w in G1 ])"
   ]
  },
  {
   "cell_type": "markdown",
   "metadata": {},
   "source": [
    "Returns ```true```, and hence verifies that $\\mathsf{TS}(\\mathsf{w})$ is vertex-intersecting for each $\\mathsf{w}$ in $\\mathsf{G}_1$. "
   ]
  }
 ],
 "metadata": {
  "kernelspec": {
   "display_name": "Julia 1.10.3",
   "language": "julia",
   "name": "julia-1.10"
  },
  "language_info": {
   "file_extension": ".jl",
   "mimetype": "application/julia",
   "name": "julia",
   "version": "1.10.3"
  }
 },
 "nbformat": 4,
 "nbformat_minor": 4
}
