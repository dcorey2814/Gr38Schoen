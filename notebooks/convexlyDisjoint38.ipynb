{
 "cells": [
  {
   "cell_type": "markdown",
   "metadata": {},
   "source": [
    "# Convexly disjoint\n",
    "\n",
    "In this notebook, we prove that the secondary fan of $\\operatorname{Trop} X^{\\circ}(3,8)$ is convexly disjoint. "
   ]
  },
  {
   "cell_type": "code",
   "execution_count": 1,
   "metadata": {},
   "outputs": [
    {
     "name": "stdout",
     "output_type": "stream",
     "text": [
      " -----    -----    -----      -      -----   \n",
      "|     |  |     |  |     |    | |    |     |  \n",
      "|     |  |        |         |   |   |     |  \n",
      "|     |   -----   |        |     |  |-----   \n",
      "|     |        |  |        |-----|  |   |    \n",
      "|     |  |     |  |     |  |     |  |    |   \n",
      " -----    -----    -----   -     -  -     -  \n",
      "\n",
      "...combining (and extending) ANTIC, GAP, Polymake and Singular\n",
      "Version\u001b[32m 0.10.1 \u001b[39m... \n",
      " ... which comes with absolutely no warranty whatsoever\n",
      "Type: '?Oscar' for more information\n",
      "(c) 2019-2022 by The Oscar Development Team\n"
     ]
    }
   ],
   "source": [
    "using Oscar;\n",
    "using Combinatorics;\n",
    "pm = Polymake;"
   ]
  },
  {
   "cell_type": "code",
   "execution_count": 2,
   "metadata": {},
   "outputs": [],
   "source": [
    "currentDir = pwd()\n",
    "include(joinpath(currentDir, \"src/inputData38.jl\"));\n",
    "include(joinpath(currentDir, \"src/fileHandling.jl\"));\n",
    "include(joinpath(currentDir, \"src/matroidalSubd.jl\"));\n",
    "AllRays_input = file2SetVectors(\"src_generateAllCones/allRays.dat\")\n",
    "allIndex2Ray = Dict{Int64, Vector{Int64}}([i => AllRays_input[i] for i in 1:length(AllRays_input)])\n",
    "allRay2Index = Dict{Vector{Int64}, Int64}([AllRays_input[i] => i for i in 1:length(AllRays_input)])\n",
    "maxConesIndex_reps = file2SetVectors(\"allRepsByCodim/codim0Index.dat\");"
   ]
  },
  {
   "cell_type": "code",
   "execution_count": 3,
   "metadata": {},
   "outputs": [
    {
     "data": {
      "text/plain": [
       "listVectors2File (generic function with 1 method)"
      ]
     },
     "execution_count": 3,
     "metadata": {},
     "output_type": "execute_result"
    }
   ],
   "source": [
    "function permutationOnConeIndex(sigma, CI, nc)\n",
    "    nr = length(CI)\n",
    "    coneMatrix = [allIndex2Ray[i][j] for i in CI, j in 1:nc]\n",
    "    sigmaConeMatrix = coneMatrix[:,sigma]\n",
    "    return sort!([allRay2Index[sigmaConeMatrix[i,:]] for i in 1:nr])\n",
    "end\n",
    "\n",
    "function listStrings2File(L, fileName)\n",
    "    io = open(fileName,\"w\")\n",
    "    newLines = join(L, \"\\n\")\n",
    "    write(io, newLines)\n",
    "    close(io)\n",
    "    return fileName\n",
    "end\n",
    "\n",
    "function listVectors2File(L, fileName)\n",
    "    toListStrings = map(v -> join(map(i->string(i), v), \" \"), L)\n",
    "    return listStrings2File(toListStrings, fileName)\n",
    "end\n"
   ]
  },
  {
   "cell_type": "code",
   "execution_count": 10,
   "metadata": {},
   "outputs": [
    {
     "data": {
      "text/plain": [
       "partialStar (generic function with 1 method)"
      ]
     },
     "execution_count": 10,
     "metadata": {},
     "output_type": "execute_result"
    }
   ],
   "source": [
    "function partialStar(MCs, tau)\n",
    "    return [sigma for sigma in MCs if issubset(tau, sigma)]\n",
    "end"
   ]
  },
  {
   "cell_type": "code",
   "execution_count": 58,
   "metadata": {
    "scrolled": true
   },
   "outputs": [
    {
     "data": {
      "text/plain": [
       "24422160-element Vector{Vector{Int64}}:\n",
       " [89, 160, 168, 178, 182, 248, 315, 1931, 1957]\n",
       " [66, 167, 177, 185, 208, 460, 609, 2468, 2837]\n",
       " [46, 184, 188, 202, 209, 298, 467, 2220, 2652]\n",
       " [47, 156, 165, 175, 197, 299, 444, 2318, 2653]\n",
       " [67, 165, 177, 190, 206, 457, 599, 2459, 2833]\n",
       " [84, 155, 177, 193, 198, 539, 626, 2482, 2866]\n",
       " [80, 161, 163, 194, 198, 259, 376, 1865, 2145]\n",
       " [29, 167, 174, 177, 198, 401, 548, 1744, 2346]\n",
       " [35, 156, 165, 184, 197, 275, 427, 2410, 2677]\n",
       " [48, 157, 175, 180, 208, 329, 425, 2392, 2704]\n",
       " [44, 176, 187, 196, 208, 316, 462, 2205, 2715]\n",
       " [71, 156, 171, 185, 195, 224, 337, 1822, 2084]\n",
       " [71, 156, 171, 193, 203, 224, 384, 1822, 2048]\n",
       " ⋮\n",
       " [6, 31, 47, 158, 174, 175, 841, 878]\n",
       " [7, 30, 38, 156, 172, 200, 849, 855]\n",
       " [17, 34, 97, 182, 190, 210, 826, 983]\n",
       " [2, 30, 55, 156, 161, 181, 911, 923]\n",
       " [12, 41, 67, 161, 191, 195, 754, 905]\n",
       " [21, 57, 78, 193, 197, 206, 746, 938]\n",
       " [5, 56, 88, 157, 192, 206, 749, 866]\n",
       " [10, 40, 70, 159, 163, 167, 667, 876]\n",
       " [1, 72, 79, 168, 189, 203, 665, 669]\n",
       " [18, 47, 52, 174, 177, 199, 726, 1040]\n",
       " [18, 68, 82, 157, 164, 198, 834, 942]\n",
       " [10, 39, 72, 161, 165, 168, 669, 876]"
      ]
     },
     "execution_count": 58,
     "metadata": {},
     "output_type": "execute_result"
    }
   ],
   "source": [
    "#MC1 = file2SetVectors(\"allRepsByCodim/allMaxCones_1_999.dat\");\n",
    "MC2 = file2SetVectors(\"allRepsByCodim/allMaxCones_1000_1999.dat\")\n",
    "#MC3 = file2SetVectors(\"allRepsByCodim/allMaxCones_2000_2999.dat\")\n",
    "#MC4 = file2SetVectors(\"allRepsByCodim/allMaxCones_3000_3999.dat\")\n",
    "#MC5 = file2SetVectors(\"allRepsByCodim/allMaxCones_4000_4766.dat\")\n",
    "#MCall = union!([MC1, MC2, MC3, MC4, MC5]...)"
   ]
  },
  {
   "cell_type": "code",
   "execution_count": 56,
   "metadata": {},
   "outputs": [
    {
     "data": {
      "text/plain": [
       "\"trimMC1.dat\""
      ]
     },
     "execution_count": 56,
     "metadata": {},
     "output_type": "execute_result"
    }
   ],
   "source": [
    "numbersAppearing = union(codim1...)\n",
    "maxRays = min([length(C) for C in codim1]...)\n"
   ]
  },
  {
   "cell_type": "code",
   "execution_count": null,
   "metadata": {},
   "outputs": [],
   "source": [
    "trimMC1 = [C for C in MC1 if length(intersect(C,numbersAppearing)) ≥ 7 ]\n",
    "listVectors2File(trimMC1, \"trimMC1.dat\")"
   ]
  },
  {
   "cell_type": "code",
   "execution_count": 59,
   "metadata": {},
   "outputs": [
    {
     "data": {
      "text/plain": [
       "\"trimMC2.dat\""
      ]
     },
     "execution_count": 59,
     "metadata": {},
     "output_type": "execute_result"
    }
   ],
   "source": [
    "trimMC2 = [C for C in MC2 if length(intersect(C,numbersAppearing)) ≥ 7 ]\n",
    "listVectors2File(trimMC2, \"trimMC2.dat\")"
   ]
  },
  {
   "cell_type": "code",
   "execution_count": 60,
   "metadata": {},
   "outputs": [
    {
     "data": {
      "text/plain": [
       "2656104"
      ]
     },
     "execution_count": 60,
     "metadata": {},
     "output_type": "execute_result"
    }
   ],
   "source": [
    "length(trimMC2)"
   ]
  },
  {
   "cell_type": "code",
   "execution_count": 49,
   "metadata": {},
   "outputs": [],
   "source": [
    "codim1 = file2SetVectors(\"allRepsByCodim/codim1Index.dat\");\n",
    "codim6 = file2SetVectors(\"allRepsByCodim/codim6Index.dat\");"
   ]
  },
  {
   "cell_type": "code",
   "execution_count": 25,
   "metadata": {},
   "outputs": [],
   "source": [
    "partialStarCD6 = Dict{Vector{Int64}, Vector{Vector{Int64}}}()\n",
    "for i in 1:155\n",
    "    partialStarCD6[codim6[i]] = partialStar(MC1, codim6[i])\n",
    "end"
   ]
  },
  {
   "cell_type": "code",
   "execution_count": 26,
   "metadata": {},
   "outputs": [
    {
     "data": {
      "text/plain": [
       "155-element Vector{Vector{Int64}}:\n",
       " [2506, 2752]\n",
       " [196, 3469]\n",
       " [1043, 5206]\n",
       " [194, 9139]\n",
       " [15, 48]\n",
       " [184, 1334]\n",
       " [72, 910]\n",
       " [74, 173]\n",
       " [46, 7128]\n",
       " [157, 1940]\n",
       " [1409, 4613]\n",
       " [836, 9322]\n",
       " [24, 716]\n",
       " ⋮\n",
       " [1123, 7543]\n",
       " [1278, 13213]\n",
       " [995, 10420]\n",
       " [82, 2105]\n",
       " [201, 988]\n",
       " [74, 2173]\n",
       " [1560, 1639]\n",
       " [46, 179]\n",
       " [1639, 4804]\n",
       " [49, 1143]\n",
       " [1895, 2120]\n",
       " [109, 9649]"
      ]
     },
     "execution_count": 26,
     "metadata": {},
     "output_type": "execute_result"
    }
   ],
   "source": [
    "[C for C in codim6 if length(partialStarCD6[C]) ≥ 2]"
   ]
  },
  {
   "cell_type": "code",
   "execution_count": 5,
   "metadata": {},
   "outputs": [],
   "source": [
    "rep2Orbit_1_999 = Dict{Vector{Int64}, Set{Vector{Int64}}}()\n",
    "for CI in maxConesIndex_reps[1:999]\n",
    "    rep2Orbit_1_999[CI] = Set([permutationOnConeIndex(sigma, CI, 56) for sigma in S8])\n",
    "end\n",
    "allMaxCones_1_999 = union!([collect(vs) for vs in values(rep2Orbit_1_999)]...)\n",
    "listVectors2File(Vector(allMaxCones_1_999), \"allRepsByCodim/allMaxCones_1_999.dat\")"
   ]
  },
  {
   "cell_type": "code",
   "execution_count": 6,
   "metadata": {},
   "outputs": [
    {
     "data": {
      "text/plain": [
       "coneIndex2Pair (generic function with 1 method)"
      ]
     },
     "execution_count": 6,
     "metadata": {},
     "output_type": "execute_result"
    }
   ],
   "source": [
    "function coneRep2Cone(G, rayOrbs, allRs, C)\n",
    "    Cindex = Vector{Int64}()\n",
    "    for i in 1:length(C)\n",
    "        s = C[i]\n",
    "        r = rayOrbs[s[1],G[s[2]]]\n",
    "        push!(Cindex, allRs[r])\n",
    "    end\n",
    "    return sort!(Cindex)\n",
    "end\n",
    "\n",
    "function rayMatrix2ConeIndex(rayM, allRs)\n",
    "    rs, cs = size(rayM)\n",
    "    Cindex = [allRs[rayM[i,:]] for i in 1:rs]\n",
    "    return sort!(Cindex)\n",
    "end\n",
    "\n",
    "function coneIndex2Pair(CI, allRs, nc)\n",
    "    rayM = [allIndex2Ray[i][j] for i in CI, j in 1:nc]\n",
    "    v = sumRowsPrimitive(rayM)\n",
    "    return (v, rayM)\n",
    "end"
   ]
  },
  {
   "cell_type": "code",
   "execution_count": 7,
   "metadata": {},
   "outputs": [],
   "source": [
    "maxCones38Index = [coneRep2Cone(S8, raysSec, allRays, C) for C in MaxCones38];"
   ]
  },
  {
   "cell_type": "code",
   "execution_count": 8,
   "metadata": {},
   "outputs": [
    {
     "data": {
      "text/plain": [
       "coneRaysUpCodim (generic function with 1 method)"
      ]
     },
     "execution_count": 8,
     "metadata": {},
     "output_type": "execute_result"
    }
   ],
   "source": [
    "function coneRep2ConeNoLineality(G,Rs,C)\n",
    "    dRs = size(Rs);\n",
    "    GRs = zeros(Int64, length(C), dRs[2]);\n",
    "    for i in 1:length(C)\n",
    "        s = C[i]\n",
    "        GRs[i,:] = Rs[s[1],G[s[2]]]\n",
    "    end\n",
    "    return positive_hull(GRs)\n",
    "end\n",
    "\n",
    "function cone2RaysFacets(C)\n",
    "    rs = Matrix{Rational{Int64}}(C.pm_cone.RAYS)\n",
    "    nrays, dimAmbientSpace = size(rs)\n",
    "    \n",
    "    intRs = zeros(Int64, nrays, dimAmbientSpace)\n",
    "    for i in 1:nrays\n",
    "        intRs[i,:] = vector2Primitive(rs[i,:])\n",
    "    end   \n",
    "    fsRaw = C.pm_cone.RAYS_IN_FACETS\n",
    "    nfacets, nrays2 = size(fsRaw) \n",
    "    fs = [[j for j in 1:nrays if fsRaw[i,j]] for i in 1:nfacets]\n",
    "    return (intRs, fs)\n",
    "end\n",
    "\n",
    "function sumRows(M)\n",
    "    nrows,ncols = size(M)\n",
    "    rM = [M[i,:] for i in 1:nrows ]\n",
    "    return(sum(rM))\n",
    "end\n",
    "\n",
    "function sumRowsPrimitive(M)\n",
    "    v = sumRows(M)\n",
    "    denom = gcd(v)\n",
    "    return Vector{Int64}(v/denom)\n",
    "end\n",
    "\n",
    "function vector2Primitive(v)\n",
    "    denom = gcd(v)\n",
    "    return Vector{Int64}(v/denom)\n",
    "end\n",
    "\n",
    "function listStrings2File(L, fileName)\n",
    "    io = open(fileName,\"w\")\n",
    "    newLines = join(L, \"\\n\")\n",
    "    write(io, newLines)\n",
    "    close(io)\n",
    "    return fileName\n",
    "end\n",
    "\n",
    "function listVectors2File(L, fileName)\n",
    "    toListStrings = map(v -> join(map(i->string(i), v), \" \"), L)\n",
    "    return listStrings2File(toListStrings, fileName)\n",
    "end\n",
    "\n",
    "function orbitVector(G,w)\n",
    "    return Set{Vector{Int64}}([[w[g[i]] for i in 1:length(w)] for g in G])\n",
    "end\n",
    "\n",
    "function multisetSupport(v)\n",
    "    return sort(v)\n",
    "end\n",
    "\n",
    "function multisetSupp2Vector(ws)\n",
    "    supp2Rep = Dict{Vector{Int64}, Vector{Vector{Int64}}}()\n",
    "    \n",
    "    for w in ws\n",
    "        suppw = multisetSupport(w); \n",
    "\n",
    "        if suppw ∉ keys(supp2Rep)\n",
    "            supp2Rep[suppw] = [w]; \n",
    "            continue\n",
    "        end\n",
    "        if suppw ∈ keys(supp2Rep)\n",
    "            append!(supp2Rep[suppw], [w]) \n",
    "        end\n",
    "        \n",
    "    end\n",
    "    return supp2Rep    \n",
    "end\n",
    "\n",
    "function distinctOrbits(G,ws)\n",
    "    suppDict = multisetSupp2Vector(ws)\n",
    "    reps = Vector{Vector{Int64}}()\n",
    "    \n",
    "    for sw in keys(suppDict)\n",
    "        \n",
    "        if length(suppDict[sw]) == 1\n",
    "            append!(reps, suppDict[sw])\n",
    "            continue\n",
    "        end      \n",
    "        \n",
    "        rep2Orbit = Dict{Vector{Int64}, Set{Vector{Int64}}}()\n",
    "        for w in suppDict[sw]             \n",
    "            if all([w ∉ orb for orb in values(rep2Orbit) ])\n",
    "                rep2Orbit[w] = orbitVector(G,w)\n",
    "            end\n",
    "            \n",
    "        end\n",
    "        append!(reps, collect(keys(rep2Orbit)))\n",
    "    end\n",
    "    return reps    \n",
    "end\n",
    "\n",
    "\n",
    "function orbitDict2File(D, fileName)\n",
    "    ws = collect(keys(D))\n",
    "    return listVectors2File(ws, fileName)\n",
    "end\n",
    "\n",
    "function coneRaysUpCodim(higherDim)\n",
    "    interior2Rays = Dict{Vector{Int64}, Matrix{Int64}}()\n",
    "    for w in keys(higherDim)\n",
    "        wCone = positive_hull(higherDim[w])\n",
    "        (wRays,wFacets) = cone2RaysFacets(wCone); \n",
    "        for F in wFacets\n",
    "            raysF = Matrix{Int64}([wRays[i,j] for i ∈ F, j ∈ 1:56 ])\n",
    "            v = sumRowsPrimitive(raysF); \n",
    "            interior2Rays[v] = raysF; \n",
    "        end\n",
    "    end\n",
    "    return interior2Rays\n",
    "end"
   ]
  },
  {
   "cell_type": "code",
   "execution_count": 27,
   "metadata": {},
   "outputs": [],
   "source": [
    "codim1Raw = Dict{Vector{Int64}, Matrix{Int64}}()\n",
    "\n",
    "for i in 1:length(MaxCones38)\n",
    "    inCone = coneRep2ConeNoLineality(S8,rays,MaxCones38[i])\n",
    "    (inRays,inFacets) = cone2RaysFacets(inCone); \n",
    "    for F in inFacets\n",
    "        raysF = Matrix{Int64}([inRays[i,j] for i ∈ F, j ∈ 1:56 ])\n",
    "        w = sumRowsPrimitive(raysF); \n",
    "        codim1Raw[w] = raysF; \n",
    "    end\n",
    "end\n",
    "\n",
    "\n"
   ]
  },
  {
   "cell_type": "code",
   "execution_count": 28,
   "metadata": {},
   "outputs": [
    {
     "data": {
      "text/plain": [
       "Dict{Vector{Int64}, Matrix{Int64}} with 14714 entries:\n",
       "  [-64, 97, -15, -225, 104… => [-3 -3 … -10 -10; -1 6 … 6 6; … ; -36 34 … -1 -2…\n",
       "  [139, -78, -1, -155, 153… => [53 -17 … 4 -24; 1 -6 … 8 1; … ; 34 -15 … -22 -2…\n",
       "  [6, -22, 12, -26, 23, 22… => [4 -10 … -3 -3; 8 8 … -6 -6; … ; 24 -32 … -11 3;…\n",
       "  [11, -19, -27, -27, 14, … => [-1 -8 … 6 6; 18 -31 … 11 11; … ; 29 1 … 43 43; …\n",
       "  [17, -2, 9, -32, 19, 9, … => [1 -6 … 1 8; 8 8 … -6 1; … ; 24 -32 … -11 3; 43 …\n",
       "  [82, -79, -65, -254, 159… => [39 -10 … 11 -10; 1 -6 … 1 8; … ; 24 -32 … -11 3…\n",
       "  [-26, -61, -12, -19, 65,… => [8 8 … 8 8; -6 -6 … 8 8; … ; -11 -25 … -32 -32; …\n",
       "  [26, 61, -30, -135, 47, … => [8 8 … 8 8; -13 8 … -6 -6; … ; 8 1 … 1 -6; 13 34…\n",
       "  [99, 8, -55, 71, 99, -16… => [6 6 … 6 -1; 53 4 … 53 25; … ; 8 1 … -6 1; 29 15…\n",
       "  [-17, 25, 39, 39, 25, 4,… => [1 1 … 1 8; -6 -6 … 8 8; … ; 3 -11 … 24 24; -25 …\n",
       "  [15, -83, 22, -195, 71, … => [-3 -3 … -10 -10; 4 -38 … -17 -45; … ; -27 -27 ……\n",
       "  [242, -129, -297, -122, … => [32 -31 … -3 -3; 8 8 … 8 8; … ; 43 -13 … -20 -20…\n",
       "  [55, -36, -36, -134, 69,… => [6 -1 … 6 6; 1 -6 … 1 1; … ; 1 -13 … -48 -48; 23…\n",
       "  [169, -13, 120, -202, 15… => [4 4 … -3 4; 4 4 … 4 4; … ; 34 -36 … -1 34; 44 -…\n",
       "  [-75, -33, 44, 44, 44, 3… => [-3 -3 … 4 4; 4 -10 … -3 -3; … ; 1 -13 … -48 -48…\n",
       "  [195, -85, -183, -92, 19… => [4 -3 … 4 4; 8 8 … 8 8; … ; 29 1 … 43 43; 23 -33…\n",
       "  [76, -22, -36, -134, 69,… => [6 -1 … 6 6; 8 8 … -6 1; … ; 29 1 … 15 15; 23 -3…\n",
       "  [76, -85, -218, -22, 69,… => [4 -3 … 4 4; 6 -1 … 6 6; … ; 13 -57 … -1 -1; 43 …\n",
       "  [83, -190, 55, -71, 83, … => [4 -3 … 4 4; 6 -1 … 6 6; … ; 29 -13 … 29 29; 13 …\n",
       "  [22, -230, -6, -6, -13, … => [4 -10 … -3 -3; -1 -8 … 6 6; … ; -11 -11 … 24 24…\n",
       "  [22, -83, -41, -55, 99, … => [-3 -3 … -10 -10; -1 6 … 6 6; … ; -13 -27 … -34 …\n",
       "  [17, -1, -4, -25, 22, 16… => [8 1 … 1 1; 1 8 … -6 1; … ; 24 -32 … -11 3; 29 -…\n",
       "  [78, -160, 106, -27, 15,… => [-1 -1 … -22 6; 48 -43 … -85 48; … ; -6 1 … 1 8;…\n",
       "  [198, -131, -110, -390, … => [-1 6 … 6 6; 18 -31 … 11 11; … ; 29 -13 … -6 -6;…\n",
       "  [-74, -95, -32, -32, -60… => [-3 -3 … -10 -10; -3 -3 … 4 4; … ; 13 -57 … -1 -…\n",
       "  ⋮                         => ⋮"
      ]
     },
     "execution_count": 28,
     "metadata": {},
     "output_type": "execute_result"
    }
   ],
   "source": [
    "codim_1 = distinctOrbits(S8,collect(keys(codim1Raw)))\n",
    "interior2Rayscodim1 = Dict{Vector{Int64}, Matrix{Int64}}([v=>codim1Raw[v] for v in codim_1 ])\n",
    "\n",
    "#listVectors2File(codim_1, \"codim_1.dat\")\n",
    "#codim_1 = file2SetVectors(\"codim_1.dat\")"
   ]
  },
  {
   "cell_type": "code",
   "execution_count": 32,
   "metadata": {},
   "outputs": [],
   "source": [
    "codim1Index = [rayMatrix2ConeIndex(C, allRays) for C in values(interior2Rayscodim1)];"
   ]
  },
  {
   "cell_type": "code",
   "execution_count": 31,
   "metadata": {},
   "outputs": [
    {
     "data": {
      "text/plain": [
       "\"codim1Index.dat\""
      ]
     },
     "execution_count": 31,
     "metadata": {},
     "output_type": "execute_result"
    }
   ],
   "source": [
    "listVectors2File(codim_1, \"codim_1.dat\")\n",
    "listVectors2File(codim1Index, \"codim1Index.dat\")"
   ]
  },
  {
   "cell_type": "code",
   "execution_count": 41,
   "metadata": {},
   "outputs": [
    {
     "data": {
      "text/plain": [
       "Dict{Vector{Int64}, Matrix} with 14714 entries:\n",
       "  [-64, 97, -15, -225, 104… => [-3 -3 … -10 -10; -1 6 … 6 6; … ; -36 34 … -1 -2…\n",
       "  [139, -78, -1, -155, 153… => [1 -6 … 8 1; 1 8 … -6 1; … ; 34 -15 … -22 -22; 5…\n",
       "  [6, -22, 12, -26, 23, 22… => [4 -10 … -3 -3; -6 -6 … 8 8; … ; 24 -32 … -11 3;…\n",
       "  [11, -19, -27, -27, 14, … => [-1 -8 … 6 6; -6 -6 … 8 8; … ; 23 -33 … -5 -5; 1…\n",
       "  [17, -2, 9, -32, 19, 9, … => [8 8 … -6 1; 1 -6 … 1 8; … ; 24 -32 … -11 3; 43 …\n",
       "  [82, -79, -65, -254, 159… => [8 8 … -6 1; 1 -6 … 1 8; … ; 29 -13 … -6 -6; 39 …\n",
       "  [-26, -61, -12, -19, 65,… => [8 8 … 8 8; -6 -6 … 8 8; … ; -11 -25 … -32 -32; …\n",
       "  [26, 61, -30, -135, 47, … => [8 8 … 8 8; -13 8 … -6 -6; … ; 8 1 … 1 -6; 13 34…\n",
       "  [99, 8, -55, 71, 99, -16… => [6 6 … 6 -1; 8 -13 … 8 -6; … ; 29 15 … 29 29; 53…\n",
       "  [-17, 25, 39, 39, 25, 4,… => [1 8 … 1 1; 1 1 … 1 8; … ; -25 24 … 38 38; 3 -11…\n",
       "  [15, -83, 22, -195, 71, … => [-3 -3 … -10 -10; 8 8 … -6 1; … ; 24 -32 … -11 3…\n",
       "  [242, -129, -297, -122, … => [8 8 … 8 8; 1 8 … 1 -6; … ; 23 -33 … -5 -5; 32 -…\n",
       "  [55, -36, -36, -134, 69,… => [6 -1 … 6 6; 8 8 … -6 1; … ; 1 -13 … -48 -48; 23…\n",
       "  [169, -13, 120, -202, 15… => [4 4 … -3 4; 4 4 … 4 4; … ; 44 -5 … 23 44; 53 -3…\n",
       "  [-75, -33, 44, 44, 44, 3… => [4 -10 … -3 -3; -3 -3 … 4 4; … ; -48 15 … -13 -1…\n",
       "  [195, -85, -183, -92, 19… => [4 -3 … 4 4; 8 8 … 8 8; … ; 29 1 … 43 43; 23 -33…\n",
       "  [76, -22, -36, -134, 69,… => [6 -1 … 6 6; 8 8 … -6 1; … ; 29 1 … 15 15; 23 -3…\n",
       "  [76, -85, -218, -22, 69,… => [4 -3 … 4 4; 6 -1 … 6 6; … ; 13 -57 … -1 -1; 43 …\n",
       "  [83, -190, 55, -71, 83, … => [4 -3 … 4 4; 6 -1 … 6 6; … ; 29 -62 … -27 15; 13…\n",
       "  [22, -230, -6, -6, -13, … => [4 -10 … -3 -3; -1 -8 … 6 6; … ; -11 -11 … 24 24…\n",
       "  [22, -83, -41, -55, 99, … => [-3 -3 … -10 -10; -1 6 … 6 6; … ; -13 -27 … -34 …\n",
       "  [17, -1, -4, -25, 22, 16… => [-6 1 … 8 8; 1 8 … -6 1; … ; 24 -32 … -11 3; 29 …\n",
       "  [78, -160, 106, -27, 15,… => [-1 -1 … -22 6; 1 1 … 1 8; … ; 34 -22 … -36 13; …\n",
       "  [198, -131, -110, -390, … => [-1 6 … 6 6; 8 8 … -6 1; … ; 23 -33 … -5 -5; 18 …\n",
       "  [-74, -95, -32, -32, -60… => [-3 -3 … -10 -10; -3 -3 … 4 4; … ; 13 -57 … -1 -…\n",
       "  ⋮                         => ⋮"
      ]
     },
     "execution_count": 41,
     "metadata": {},
     "output_type": "execute_result"
    }
   ],
   "source": [
    "D = Dict{Vector{Int64}, Matrix}([coneIndex2Pair(CI, allRays, 56) for CI in codim1Index ] )"
   ]
  },
  {
   "cell_type": "code",
   "execution_count": null,
   "metadata": {},
   "outputs": [],
   "source": []
  }
 ],
 "metadata": {
  "kernelspec": {
   "display_name": "Julia 1.7.1",
   "language": "julia",
   "name": "julia-1.7"
  },
  "language_info": {
   "file_extension": ".jl",
   "mimetype": "application/julia",
   "name": "julia",
   "version": "1.7.3"
  }
 },
 "nbformat": 4,
 "nbformat_minor": 4
}
