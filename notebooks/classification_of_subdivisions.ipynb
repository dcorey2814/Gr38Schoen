{
 "cells": [
  {
   "cell_type": "markdown",
   "id": "696bdd7f",
   "metadata": {},
   "source": [
    "# Classification of Matroidal Subdivisions of (3,8)-hypersimplex\n",
    "\n",
    "In the following computations we classify matroidal subdivisions of $\\Delta(3,8)$ using properties of their dual graphs. We study these subdivisions up to symmetry. This symmetry is induced by the action of the symmetric group $\\mathfrak{S}_8$ on height functions $w\\in\\text{TGr}_{0}(3,8)\\subset \\mathbb{R}^{{[8]\\choose 3}}$, where we think of $\\mathfrak{S}_8$ as a subgroup of $\\mathfrak{S}_{56}$.\n",
    "\n",
    "That is, for $\\sigma\\in\\mathfrak{S}_{8}$ and $\\{i,j,k\\}\\in{[8]\\choose 3}$, we take $\\sigma\\circ\\{i,j,k\\}=\\{\\sigma(i),\\sigma(j),\\sigma(k)\\}$. In this way, we induce a permutation on the entries of $w$.\n",
    "\n",
    "For each cone of $\\text{TGr}_{0}(3,8)$, we have a representative from the interior. In other words, we have a representative for each symmetry class of matroidal subdivision.\n",
    "\n",
    "For a complete explanation, see <a href=\"https://alco.centre-mersenne.org/articles/10.5802/alco.302/\">Section 6</a>."
   ]
  },
  {
   "cell_type": "code",
   "execution_count": null,
   "id": "368f7268",
   "metadata": {},
   "outputs": [],
   "source": [
    "using Oscar\n",
    "using Combinatorics\n",
    "pm = Polymake"
   ]
  },
  {
   "cell_type": "code",
   "execution_count": null,
   "id": "978dd68e",
   "metadata": {},
   "outputs": [],
   "source": [
    "cd(\"..\")"
   ]
  },
  {
   "cell_type": "code",
   "execution_count": null,
   "id": "8782f410",
   "metadata": {},
   "outputs": [],
   "source": [
    "include(\"src/inputData38.jl\");\n",
    "include(\"src/fileHandling.jl\")\n",
    "include(\"src/tscCoordRing.jl\");\n",
    "include(\"src/matroidalSubd.jl\");\n",
    "include(\"src/Bmaximal.jl\");\n",
    "include(\"src/simplifyIdeal.jl\");"
   ]
  },
  {
   "cell_type": "markdown",
   "id": "06a84862",
   "metadata": {},
   "source": [
    "Let $w\\in\\text{TGr}_{0}(3,8)$. Then $w$ induces a matroidal subdivision of $\\Delta(3,8)$, denoted $\\mathcal{Q}(w)$. The tightspan, denoted $\\text{TS}(w)$ is a polytopal complex whose faces are dual to $\\mathcal{Q}(w)$. Each face of codimension $k$ of $TS(w)$ corresponds to a $k$ dimensonal face of $\\mathcal{Q}(w)$.\n",
    "\n",
    "Let $\\Gamma(w)$ be the graph dual to the subdivision induced by $w$. That is, $\\Gamma(w)$ has a vertex $v$ for each maximal cell $C_v$ of $\\mathcal{Q}(w)$, and an edge between $v$ and $v^{\\prime}$ if $C_v$ and $C_{^{\\prime}}$ intersect in codimension one. Observe that $\\Gamma(w)$ is the 1-skeleton of $\\text{TS}(w)$.\n",
    "\n",
    "\n",
    "**Variable notation**\n",
    "\n",
    "```cone``` = cone of $\\text{TGr}_0(3,8)$ corresponding to representative $w$ from interior.\n",
    "\n",
    "```subd``` = $\\mathcal{Q}(w)$.\n",
    "\n",
    "```G``` = $\\Gamma(w)$.\n",
    "\n",
    "```Tmc``` = $\\text{TS}(w)$.\n",
    "\n",
    "```Mp``` = maximal polytopes of $\\text{TS}(w)$ as sets of vertices of $\\text{TS}(w)$. Note that these are saved as a matrix such that the $ith$ row corresponds to $ith$ polytope. \n",
    "\n",
    "```Mc``` = maximal cells of $\\mathcal{Q}(w)$ as sets of vertices of $\\Delta(3,8)$, saved as array of vectors of indices of vertices."
   ]
  },
  {
   "cell_type": "markdown",
   "id": "d00ddfd2",
   "metadata": {},
   "source": [
    "# Functions"
   ]
  },
  {
   "cell_type": "markdown",
   "id": "7c686658",
   "metadata": {},
   "source": [
    "**Function** ```use_edges```\n",
    "\n",
    "*input* ```G```\n",
    "\n",
    "*output* ```Set```\n",
    "\n",
    "*Description* returns edges of ```G``` such that they are usable in subsequent functions."
   ]
  },
  {
   "cell_type": "code",
   "execution_count": null,
   "id": "ffcda203",
   "metadata": {},
   "outputs": [],
   "source": [
    "function use_edges(G)\n",
    "    E = collect(edges(G))\n",
    "    return EE = Vector([sort([dst(e),src(e)]) for e in E])\n",
    "end"
   ]
  },
  {
   "cell_type": "markdown",
   "id": "e1b92750",
   "metadata": {},
   "source": [
    "**Function**:```common_vertex``` \n",
    "\n",
    "*Input*: ```Mc```\n",
    "\n",
    "*Output*: ```Set``` of indices of vertices of $\\Delta(3,8)$.\n",
    "\n",
    "*Description*: intersects vertex sets of maximal cells of $\\mathcal{Q}(w)$, with the objective of finding a common basis of the matroids corresponding to these cells."
   ]
  },
  {
   "cell_type": "code",
   "execution_count": null,
   "id": "71ae78ef",
   "metadata": {},
   "outputs": [],
   "source": [
    "function common_vertex(Mc)\n",
    "    return reduce(intersect,[c for c in Mc])\n",
    "end"
   ]
  },
  {
   "cell_type": "markdown",
   "id": "855b8988",
   "metadata": {},
   "source": [
    "**Function**: ```is_tree```\n",
    "\n",
    "*Input*: ```Gra```, ```Tmc```\n",
    "\n",
    "*Output*: ```Integer```$F=E-V+1$\n",
    "\n",
    "*Description*: Checks if $\\Gamma(w)$ is a tree"
   ]
  },
  {
   "cell_type": "code",
   "execution_count": null,
   "id": "d92b8e3a",
   "metadata": {},
   "outputs": [],
   "source": [
    "function is_tree(G)\n",
    "    return 0 == ne(G)-nv(G)+1 \n",
    "end"
   ]
  },
  {
   "cell_type": "markdown",
   "id": "f09c90e6",
   "metadata": {},
   "source": [
    "**Function** ```f```\n",
    "\n",
    "*input*: edge ``e``,vertices of supergraph ``A``\n",
    "\n",
    "*output*: elements of ``E`` relabeled using indices starting at 1\n",
    "\n",
    "*Description* relabels vertices in subset of edges such that we can compute induced subgraph without extra vertices"
   ]
  },
  {
   "cell_type": "code",
   "execution_count": null,
   "id": "993d1769",
   "metadata": {},
   "outputs": [],
   "source": [
    "function f(e, A)\n",
    "    return [[i,j] for i in 1:length(A),j in 1:length(A) if A[i] == e[1] && A[j] == e[2]][1]\n",
    "end"
   ]
  },
  {
   "cell_type": "markdown",
   "id": "fa26d275",
   "metadata": {},
   "source": [
    "**Function**: ```leaf_cvp```\n",
    "\n",
    "*Input*: ```Mc```, ```G```\n",
    "\n",
    "*Output*: ```Set``` \n",
    "\n",
    "*Description*: Computes indices of common vertices maximal polytopes of $\\mathcal{Q}(w)$ corresponding to faces of the subcomplex $\\Sigma_{L}\\subset \\Sigma$ obtained by removing all leaves."
   ]
  },
  {
   "cell_type": "code",
   "execution_count": null,
   "id": "126c3c80",
   "metadata": {},
   "outputs": [],
   "source": [
    "function leaf_cvp(Mc,G)\n",
    "    c = [Mc[i] for i in 1:nv(G) if length(neighbors(G,i))>1]\n",
    "    return reduce(intersect, c)\n",
    "end"
   ]
  },
  {
   "cell_type": "markdown",
   "id": "a80f4a6d",
   "metadata": {},
   "source": [
    "**Function** ``find_leaves_edges``\n",
    "\n",
    "*input*: ``E``, edges of graph\n",
    "\n",
    "*output*: ``Set``\n",
    "\n",
    "*Description* Identifies leaf edges on graph ``G``. To be applied itertively"
   ]
  },
  {
   "cell_type": "code",
   "execution_count": null,
   "id": "94978c1c",
   "metadata": {},
   "outputs": [],
   "source": [
    "function find_leaves_edges(E)# E = edge set of graph\n",
    "    vs = reduce(union,E)\n",
    "    ls = [i for i in vs if length([e for e in E if i in e]) == 1]\n",
    "    les = [e for e in E if e[1] in ls||e[2] in ls]\n",
    "    return les\n",
    "end"
   ]
  },
  {
   "cell_type": "markdown",
   "id": "f0e814aa",
   "metadata": {},
   "source": [
    "**Function** ``find_branches``\n",
    "\n",
    "*input*: ``E``, edges of graph\n",
    "\n",
    "*output*: ``Set``\n",
    "\n",
    "*Description* iteratively identifies leaf edges on graph ``G``. "
   ]
  },
  {
   "cell_type": "code",
   "execution_count": null,
   "id": "e4dc868b",
   "metadata": {},
   "outputs": [],
   "source": [
    "function find_branches(E)\n",
    "    L = find_leaves_edges(E)\n",
    "    B = vcat([],L)\n",
    "    while !isempty(L)\n",
    "        E = setdiff(E,L)\n",
    "        L = find_leaves_edges(E)\n",
    "        B = vcat(B,L)\n",
    "    end\n",
    "    return B\n",
    "end"
   ]
  },
  {
   "cell_type": "markdown",
   "id": "629d70bd",
   "metadata": {},
   "source": [
    "**Function**: ```branch_cvp```\n",
    "\n",
    "*Input*: ```Mc```, ```G```\n",
    "\n",
    "*Output*: ```Set``` \n",
    "\n",
    "*Description*: Computes indices of common vertices of maximal polytopes $\\mathcal{Q}(w)$ corresponding to faces of the subcomplex $\\Sigma_{B}\\subset \\Sigma$ obtained by removing all branches."
   ]
  },
  {
   "cell_type": "code",
   "execution_count": null,
   "id": "64e10c31",
   "metadata": {},
   "outputs": [],
   "source": [
    "function branch_cvp(Mc,G)\n",
    "    E = use_edges(G)\n",
    "    B = find_branches(E)\n",
    "    vs = reduce(union, setdiff(E,B))\n",
    "    return reduce(intersect,[Mc[i] for i in vs])\n",
    "end"
   ]
  },
  {
   "cell_type": "markdown",
   "id": "cddeb53a",
   "metadata": {},
   "source": [
    "**Function** ``fin_expoed``\n",
    "\n",
    "*Input*: ``G``,``Fins=`` fins on $\\Gamma(w)$\n",
    "\n",
    "*Output*: ``Set``\n",
    "\n",
    "*Description*: Indentifies exposed vertices of fins"
   ]
  },
  {
   "cell_type": "code",
   "execution_count": null,
   "id": "ff4bb2c3",
   "metadata": {},
   "outputs": [],
   "source": [
    "function fin_exposed(G,Fins)\n",
    "    E = use_edges(G)    \n",
    "    Branches = find_branches(E)\n",
    "    Not_Branches = setdiff(Mp,Branches)\n",
    "    exposed = []\n",
    "    for P in Fins\n",
    "        PB = setdiff(Not_Branches,[P])\n",
    "        int = intersect(reduce(union,PB),P)\n",
    "        ex = [i for i in P if !(i in int)]\n",
    "        exposed = vcat(exposed,ex)\n",
    "    end\n",
    "    return exposed    \n",
    "end"
   ]
  },
  {
   "cell_type": "markdown",
   "id": "0fd7b95c",
   "metadata": {},
   "source": [
    "**Function** ```fins_1```\n",
    "\n",
    "*input*: ```G```,```Ts```,```Mp```\n",
    "\n",
    "*Output*: ```Set```\n",
    "\n",
    "*Description* Identifies fins of contact edgelength $1$ on ```G```."
   ]
  },
  {
   "cell_type": "code",
   "execution_count": null,
   "id": "f6f47dd6",
   "metadata": {},
   "outputs": [],
   "source": [
    "function fins_1(G,Ts,Mp)\n",
    "    P2 = polyhedra_of_dim(Ts,2)\n",
    "    Pinds = [[i for i in 1:length(vertices(Ts)) if vertices(Ts)[i] in vertices(P)] for P in P2]\n",
    "    E = use_edges(G)\n",
    "    NoBranch = setdiff(Mp,find_branches(E))\n",
    " \n",
    "    finz = []\n",
    "    for P in Pinds\n",
    "        BodyP = setdiff(NoBranch,[P])\n",
    "        Bint = intersect(reduce(union,BodyP),P)\n",
    "        Es = [e for e in E if issubset(e,Bint)]\n",
    "        if length(Es) == 1\n",
    "            push!(finz,P)\n",
    "        end  \n",
    "    end  \n",
    "    return finz\n",
    "end"
   ]
  },
  {
   "cell_type": "markdown",
   "id": "f5f20324",
   "metadata": {},
   "source": [
    "**Function** ```fin_1_cvp```\n",
    "\n",
    "*input* : ```Mp```, ```Mc```, ```G```\n",
    "\n",
    "*output*: ```Set```\n",
    "\n",
    "*Description*: Computes indices of common vertices of cells of $\\mathcal{Q}(w)$ corresponding to faces of the subcomplex $\\Sigma_{F(1)}\\subset\\Sigma_{L}\\subset\\Sigma$ obtained by removing all leaves and fins with contact length $1$. "
   ]
  },
  {
   "cell_type": "code",
   "execution_count": null,
   "id": "615eb44c",
   "metadata": {},
   "outputs": [],
   "source": [
    "function fin_1_cvp(Mc,G,Ts,Mp)\n",
    "    Fins = fins_1(G,Ts,Mp)\n",
    "    vs = [i for i in 1:nv(G) if length(neighbors(G,i)) != 1] #restrict to non leaf vertices\n",
    "    exposed = fin_exposed(G,Fins)\n",
    "    return reduce(intersect,[Mc[i] for i in setdiff(vs,exposed)])\n",
    "end"
   ]
  },
  {
   "cell_type": "markdown",
   "id": "4aa5539d",
   "metadata": {},
   "source": [
    "**Function** ```is_path```\n",
    "\n",
    "*input*: ```Ograph```\n",
    "\n",
    "*output*: ```bool```\n",
    "\n",
    "*Description*: Checks if graph is isomorphic to a path. To be used to identify general fins"
   ]
  },
  {
   "cell_type": "code",
   "execution_count": null,
   "id": "de240106",
   "metadata": {},
   "outputs": [],
   "source": [
    "function is_path(Ograph)\n",
    "    E = use_edges(Ograph)\n",
    "    gpath = graph_from_edges(Vector([[i,i+1] for i in 1:length(E)]))\n",
    "    return is_isomorphic(gpath,Ograph)\n",
    "end"
   ]
  },
  {
   "cell_type": "markdown",
   "id": "d9f31fd5",
   "metadata": {},
   "source": [
    "**Function** ``fins``\n",
    "\n",
    "*input*: ``G``,``Ts``,``Mp``\n",
    "\n",
    "*output*: ``Set``, collection of fins (of any contanct length) of $\\Gamma(w)$\n",
    "\n",
    "*Description*: Find fins on dual graph of tight span"
   ]
  },
  {
   "cell_type": "code",
   "execution_count": null,
   "id": "1ef22119",
   "metadata": {},
   "outputs": [],
   "source": [
    "function fins(G, Ts, Mp)\n",
    "    P2 = polyhedra_of_dim(Ts, 2) \n",
    "    Pinds = [[i for i in 1:length(vertices(Ts)) if vertices(Ts)[i] in vertices(P)] for P in P2]\n",
    "    E = use_edges(G)\n",
    "    NoBranch = setdiff(Mp,find_branches(E))\n",
    "    finz = []\n",
    "    for P in Pinds\n",
    "        BodyP = setdiff(NoBranch, [P])\n",
    "        Bint = intersect(reduce(union, BodyP),P)\n",
    "        Es = [e for e in E if issubset(e,Bint)]\n",
    "        E2 = [f(e,Bint) for e in Es]  \n",
    "        if 1 <= length(Es) <= length(P)-2 && is_path(graph_from_edges(E2, length(Bint)))\n",
    "            push!(finz,P)\n",
    "        end\n",
    "    end\n",
    "    return finz\n",
    "end"
   ]
  },
  {
   "cell_type": "markdown",
   "id": "2afa1f28",
   "metadata": {},
   "source": [
    "**Function** ``fins_tree``\n",
    "\n",
    "``input``: ``G``,``Mp``,``Ts``\n",
    "\n",
    "``output``: ``(bool,Graph)``\n",
    "\n",
    "``Description``: Checks if $\\Sigma_{F}\\subset\\Sigma_{L}\\subset\\Sigma$ obtained by removing all leaves and fins is a tree. Returns induced subgraph."
   ]
  },
  {
   "cell_type": "code",
   "execution_count": null,
   "id": "974e1768",
   "metadata": {},
   "outputs": [],
   "source": [
    "function fins_tree(G,Ts,Mp)\n",
    "    E = use_edges(G)\n",
    "    Fins = fins(G,Ts,Mp) #compute fins\n",
    "    exposed = fin_exposed(G,Fins) #compute exposed vertices of fins\n",
    "    vs = [i for i in 1:nv(G) if length(neighbors(G,i))>1] #restrict to non leaf vertices\n",
    "    internal = setdiff(vs,exposed) #compute internal vertices\n",
    "    bes = [e for e in E if issubset(e,setdiff(vs,exposed))] #comute internal edges\n",
    "    Es2 = [f(e,setdiff(vs,exposed)) for e in bes] #relabel vertices for induced subgraph\n",
    "    GG = graph_from_edges(Es2) #compute induced subgraph\n",
    "    return is_tree(GG),GG\n",
    "end  "
   ]
  },
  {
   "cell_type": "markdown",
   "id": "499ff62d",
   "metadata": {},
   "source": [
    " # Classes of subdivision\n",
    " \n",
    " We will use the functions defined above to sort matroidal subdivsions of $\\Delta(3,8)$ into 6 combinatorial types.\n",
    " \n",
    " **G1**: Maximal cells of $\\mathcal{Q}(w)$ share a common vertex.\n",
    " \n",
    " **G2**: $\\Gamma(w)$ is a tree.\n",
    " \n",
    " **G3**: The maximal cells of $\\mathcal{Q}(w)$ corresponding to the subcomplex of $\\text{TS}(w)$ obtained by removing all leaves share a common vertex.\n",
    " \n",
    " **G4**: The maximal cells of $\\mathcal{Q}(w)$ corresponding to the subcomplex of $\\text{TS}(w)$ obtained by removing all branches share a common vertex.\n",
    " \n",
    " **G5**: The maximal cells of $\\mathcal{Q}(w)$ corresponding to the subcomplex of the $TS(w)$ obtained by first removing all leaves, and then removing all fins that intersect the body in a single edge, share a common vertex.\n",
    " \n",
    " **G6**: The maximal cells of $\\mathcal{Q}(w)$ corresponding to subcomplex of $TS(w)$ obtained by removing all leaves and fins is a tree.\n",
    " \n",
    " Note that these categories are not mutually exclusive. We require that if a subdivision corresponding to $w$ is in $Gj$, then it is not in $Gi$ for $i<j$.\n",
    " \n",
    " Sorting matroid subdivisions up to symmetry in this way gives us a complete classification of all combinatorial types, for which we develop theory to prove properites about inverse limits."
   ]
  },
  {
   "cell_type": "markdown",
   "id": "4188d275",
   "metadata": {},
   "source": [
    "# Examples\n",
    "\n",
    "We compute some applications of the above functions."
   ]
  },
  {
   "cell_type": "code",
   "execution_count": null,
   "id": "5560d0d3",
   "metadata": {},
   "outputs": [],
   "source": [
    "d38 = hypersimplex(3,8)"
   ]
  },
  {
   "cell_type": "markdown",
   "id": "62ddbce9",
   "metadata": {},
   "source": [
    "***$G_1$ Common vertex property***"
   ]
  },
  {
   "cell_type": "code",
   "execution_count": null,
   "id": "be840567",
   "metadata": {},
   "outputs": [],
   "source": [
    "w = [-7, -33, 6, 6, 26, 25, -11, -2, -2, 18, 17, 2, 2, 22, 21, -42, -4, -5, -4, -5, -30, -32, 7, 7, -33, -34, -34, -34, 1, 0, 2, 40, 39, 40, 39, -31, 3, 3, -7, -8, -6, 32, 31, 32, 31, -39, -2, 36, 35, 36, 35, -35, -68, -54, -16, -16]\n",
    "S = subdivision_of_points(d38,-w)#compute subdivision\n",
    "\n",
    "Tmc = S.pm_subdivision.TIGHT_SPAN\n",
    "Mp = Tmc.MAXIMAL_POLYTOPES#obtain maximal polytopes\n",
    "Mp = [Vector(pm.row(Mp,i)) for i in 1:nrows(Mp)]#convert maximal polytopes to usable type\n",
    "Mc = maximal_cells(S)#maximal cells of S\n",
    "G = S.pm_subdivision.POLYHEDRAL_COMPLEX.DUAL_GRAPH\n",
    "G = Graph{Undirected}(G.ADJACENCY)\n",
    "visualize(G)"
   ]
  },
  {
   "cell_type": "code",
   "execution_count": null,
   "id": "f3a02197",
   "metadata": {},
   "outputs": [],
   "source": [
    "common_vertex(Mc)"
   ]
  },
  {
   "cell_type": "markdown",
   "id": "d70e61d5",
   "metadata": {},
   "source": [
    "**$G_2$ Tree**"
   ]
  },
  {
   "cell_type": "code",
   "execution_count": null,
   "id": "701c1245",
   "metadata": {},
   "outputs": [],
   "source": [
    "w = [12, 5, 5, -86, 5, 19, 5, 5, 19, 5, -86, -2, 12, -2, 12, 12, -2, 12, 12, 26, 12, 12, 12, 26, -93, 26, 5, 19, 5, -86, 19, 5, 19, 19, 33, 19, 5, -86, 5, 19, 19, 5, 19, 19, 33, 19, 12, -2, 12, 12, 26, 12, -23, -114, -23, -9]\n",
    "S = subdivision_of_points(d38,-w)#compute subdivision\n",
    "\n",
    "Tmc = S.pm_subdivision.TIGHT_SPAN\n",
    "Mp = Tmc.MAXIMAL_POLYTOPES#obtain maximal polytopes\n",
    "Mp = [Vector(pm.row(Mp,i)) for i in 1:nrows(Mp)]#convert maximal polytopes to usable type\n",
    "Mc = maximal_cells(S)#maximal cells of S\n",
    "G = S.pm_subdivision.POLYHEDRAL_COMPLEX.DUAL_GRAPH\n",
    "G = Graph{Undirected}(G.ADJACENCY)\n",
    "visualize(G)"
   ]
  },
  {
   "cell_type": "code",
   "execution_count": null,
   "id": "9a2f3cfa",
   "metadata": {},
   "outputs": [],
   "source": [
    "common_vertex(Mc)"
   ]
  },
  {
   "cell_type": "code",
   "execution_count": null,
   "id": "c3faaaa3",
   "metadata": {},
   "outputs": [],
   "source": [
    "is_tree(G)"
   ]
  },
  {
   "cell_type": "markdown",
   "id": "4b223705",
   "metadata": {},
   "source": [
    "**$G_3$ Leaf common vertex propety**"
   ]
  },
  {
   "cell_type": "code",
   "execution_count": null,
   "id": "4710a937",
   "metadata": {
    "scrolled": true
   },
   "outputs": [],
   "source": [
    "w = [17, 21, -4, -11, 17, 20, 34, 9, 2, -30, 33, -62, -9, 34, -23, -34, 9, -48, 2, -10, 33, -46, 24, 17, -35, -32, 28, 21, -31, -28, -19, 24, 27, 17, 20, -47, 41, 34, -18, -15, -36, -23, 40, -30, 33, -19, -2, 41, -16, 34, -23, -15, -36, -3, 40, 33]\n",
    "S = subdivision_of_points(d38,-w)#compute subdivision\n",
    "\n",
    "Tmc = S.pm_subdivision.TIGHT_SPAN\n",
    "Mp = Tmc.MAXIMAL_POLYTOPES#obtain maximal polytopes\n",
    "Mp = [Vector(pm.row(Mp,i)) for i in 1:nrows(Mp)]#convert maximal polytopes to usable type\n",
    "Mc = maximal_cells(S)#maximal cells of S\n",
    "G = S.pm_subdivision.POLYHEDRAL_COMPLEX.DUAL_GRAPH\n",
    "G = Graph{Undirected}(G.ADJACENCY)\n",
    "visualize(G)"
   ]
  },
  {
   "cell_type": "code",
   "execution_count": null,
   "id": "68c46497",
   "metadata": {},
   "outputs": [],
   "source": [
    "common_vertex(Mc)\n",
    "println(\"common vertex: \", common_vertex(Mc))"
   ]
  },
  {
   "cell_type": "code",
   "execution_count": null,
   "id": "130c6a6d",
   "metadata": {},
   "outputs": [],
   "source": [
    "is_tree(G)"
   ]
  },
  {
   "cell_type": "code",
   "execution_count": null,
   "id": "0dee06ec",
   "metadata": {},
   "outputs": [],
   "source": [
    "leaf_cvp(Mc,G)"
   ]
  },
  {
   "cell_type": "markdown",
   "id": "9fc9a182",
   "metadata": {},
   "source": [
    "**$G_4$ Branch common vertex property**"
   ]
  },
  {
   "cell_type": "code",
   "execution_count": null,
   "id": "99219789",
   "metadata": {},
   "outputs": [],
   "source": [
    "w = [1, 8, 1, -20, 8, 8, 8, -20, -20, 8, 8, 8, -13, 15, 15, -20, 8, 8, -13, -13, 15, 8, -20, 1, 8, 8, 8, 8, -20, -20, 1, 8, 8, 8, 8, -20, -13, 8, 15, 15, -20, -13, -13, 8, 8, 15, 8, 15, 15, 15, 15, -118, 8, 8, 15, 15]\n",
    "S = subdivision_of_points(d38,-w)#compute subdivision\n",
    "\n",
    "Tmc = S.pm_subdivision.TIGHT_SPAN\n",
    "Mp = Tmc.MAXIMAL_POLYTOPES#obtain maximal polytopes\n",
    "Mp = [Vector(pm.row(Mp,i)) for i in 1:nrows(Mp)]#convert maximal polytopes to usable type\n",
    "Mc = maximal_cells(S)#maximal cells of S\n",
    "G = S.pm_subdivision.POLYHEDRAL_COMPLEX.DUAL_GRAPH\n",
    "G = Graph{Undirected}(G.ADJACENCY)\n",
    "visualize(G)"
   ]
  },
  {
   "cell_type": "code",
   "execution_count": null,
   "id": "c49f30d6",
   "metadata": {},
   "outputs": [],
   "source": [
    "common_vertex(Mc)"
   ]
  },
  {
   "cell_type": "code",
   "execution_count": null,
   "id": "a28ef41e",
   "metadata": {},
   "outputs": [],
   "source": [
    "is_tree(G)"
   ]
  },
  {
   "cell_type": "code",
   "execution_count": null,
   "id": "730b9702",
   "metadata": {},
   "outputs": [],
   "source": [
    "leaf_cvp(Mc,G)"
   ]
  },
  {
   "cell_type": "code",
   "execution_count": null,
   "id": "f2839cf7",
   "metadata": {},
   "outputs": [],
   "source": [
    "branch_cvp(Mc,G)"
   ]
  },
  {
   "cell_type": "markdown",
   "id": "54951640",
   "metadata": {},
   "source": [
    "**$G_5$ Fin common vertex property**"
   ]
  },
  {
   "cell_type": "code",
   "execution_count": null,
   "id": "68262f0f",
   "metadata": {
    "scrolled": true
   },
   "outputs": [],
   "source": [
    "w = [-4, -22, 0, -36, 15, 15, -9, -32, 7, 28, 28, -5, -11, -35, -35, 11, 32, 32, 26, 26, -31, -4, -27, -3, 18, 18, 0, -21, 15, 15, 1, 22, 22, 16, 16, -56, -47, 7, 28, 28, -16, 5, 5, -1, -1, -28, 11, 32, 32, 26, 26, -31, -27, -27, -24, -30]\n",
    "S = subdivision_of_points(d38,-w)#compute subdivision\n",
    "\n",
    "Tmc = S.pm_subdivision.TIGHT_SPAN\n",
    "Ts = polyhedral_complex(Tmc)\n",
    "Mp = Tmc.MAXIMAL_POLYTOPES#obtain maximal polytopes\n",
    "Mp = [Vector{Int64}(pm.row(Mp,i)) for i in 1:nrows(Mp)]#convert maximal polytopes to usable type\n",
    "Mc = maximal_cells(S)#maximal cells of S\n",
    "G = S.pm_subdivision.POLYHEDRAL_COMPLEX.DUAL_GRAPH\n",
    "G = Graph{Undirected}(G.ADJACENCY)\n",
    "visualize(G)"
   ]
  },
  {
   "cell_type": "code",
   "execution_count": null,
   "id": "f191c9f4",
   "metadata": {},
   "outputs": [],
   "source": [
    "common_vertex(Mc)"
   ]
  },
  {
   "cell_type": "code",
   "execution_count": null,
   "id": "7bb1e784",
   "metadata": {},
   "outputs": [],
   "source": [
    "is_tree(G)"
   ]
  },
  {
   "cell_type": "code",
   "execution_count": null,
   "id": "30e50a08",
   "metadata": {},
   "outputs": [],
   "source": [
    "leaf_cvp(Mc,G)"
   ]
  },
  {
   "cell_type": "code",
   "execution_count": null,
   "id": "a59f0eb5",
   "metadata": {},
   "outputs": [],
   "source": [
    "branch_cvp(Mc,G)"
   ]
  },
  {
   "cell_type": "code",
   "execution_count": null,
   "id": "2eb37e77",
   "metadata": {},
   "outputs": [],
   "source": [
    "fin_1_cvp(Mc,G,Ts,Mp)"
   ]
  },
  {
   "cell_type": "markdown",
   "id": "e88a3514",
   "metadata": {},
   "source": [
    "***$G_6$ Fin tree complex***"
   ]
  },
  {
   "cell_type": "code",
   "execution_count": null,
   "id": "58a8510e",
   "metadata": {
    "scrolled": true
   },
   "outputs": [],
   "source": [
    "w = [-18, -46, 17, 17, 59, 52, -18, 24, 24, -284, -186, 17, 17, 59, 52, -67, 101, 94, 101, 94, -109, -46, 17, 17, 59, 52, -137, -137, 10, 3, -95, 73, 66, 73, 66, -102, 17, 17, 59, 52, -67, 101, 94, 101, 94, -109, -95, 73, 66, 73, 66, -102, -116, -123, -60, -60]\n",
    "S = subdivision_of_points(d38,-w)#compute subdivision\n",
    "\n",
    "Tmc = S.pm_subdivision.TIGHT_SPAN\n",
    "Ts = polyhedral_complex(Tmc)\n",
    "Mp = Tmc.MAXIMAL_POLYTOPES#obtain maximal polytopes\n",
    "Mp = [Vector(pm.row(Mp,i)) for i in 1:nrows(Mp)]#convert maximal polytopes to usable type\n",
    "Mc = maximal_cells(S)#maximal cells of S\n",
    "G = S.pm_subdivision.POLYHEDRAL_COMPLEX.DUAL_GRAPH\n",
    "G = Graph{Undirected}(G.ADJACENCY)\n",
    "visualize(G)"
   ]
  },
  {
   "cell_type": "code",
   "execution_count": null,
   "id": "f12cf2b7",
   "metadata": {
    "scrolled": true
   },
   "outputs": [],
   "source": [
    "common_vertex(Mc)"
   ]
  },
  {
   "cell_type": "code",
   "execution_count": null,
   "id": "436fc04c",
   "metadata": {},
   "outputs": [],
   "source": [
    "is_tree(G)"
   ]
  },
  {
   "cell_type": "code",
   "execution_count": null,
   "id": "0d5a67dd",
   "metadata": {},
   "outputs": [],
   "source": [
    "leaf_cvp(Mc,G)"
   ]
  },
  {
   "cell_type": "code",
   "execution_count": null,
   "id": "7cbc2fb1",
   "metadata": {},
   "outputs": [],
   "source": [
    "branch_cvp(Mc,G)"
   ]
  },
  {
   "cell_type": "code",
   "execution_count": null,
   "id": "9f29ead6",
   "metadata": {},
   "outputs": [],
   "source": [
    "fin_1_cvp(Mc,G,Ts,Mp)"
   ]
  },
  {
   "cell_type": "code",
   "execution_count": null,
   "id": "24912b32",
   "metadata": {},
   "outputs": [],
   "source": [
    "fins_tree(G,Ts,Mp)"
   ]
  },
  {
   "cell_type": "code",
   "execution_count": null,
   "id": "6b9cf5df",
   "metadata": {},
   "outputs": [],
   "source": [
    "visualize(fins_tree(G,Ts,Mp)[2])"
   ]
  },
  {
   "cell_type": "markdown",
   "id": "41c7c116",
   "metadata": {},
   "source": [
    "# Complete classification of subdivisions\n",
    "\n",
    "\n",
    "The code below loops through all representative height functions for cones, checking for the correct property, and adding it to the appropriate set $G_{1},G_{2},G_{3},G_{4},G_{5},G_{6}$.\n",
    "\n",
    "**warning :** Fully implementing this classification is time consuming."
   ]
  },
  {
   "cell_type": "code",
   "execution_count": null,
   "id": "8fcaa987",
   "metadata": {},
   "outputs": [],
   "source": [
    "codim0 = file2SetVectors(\"allRepsByCodim/codim_0.dat\")\n",
    "codim1 = file2SetVectors(\"allRepsByCodim/codim_1.dat\")\n",
    "codim2 = file2SetVectors(\"allRepsByCodim/codim_2.dat\")\n",
    "codim3 = file2SetVectors(\"allRepsByCodim/codim_3.dat\")\n",
    "codim4 = file2SetVectors(\"allRepsByCodim/codim_4.dat\")\n",
    "codim5 = file2SetVectors(\"allRepsByCodim/codim_5.dat\")\n",
    "codim6 = file2SetVectors(\"allRepsByCodim/codim_6.dat\")\n",
    "codim7 = file2SetVectors(\"allRepsByCodim/codim_7.dat\")\n",
    "all_cones = union(codim0,codim1,codim2,codim3,codim4,codim5,codim6,codim7)"
   ]
  },
  {
   "cell_type": "code",
   "execution_count": null,
   "id": "1598fb5b",
   "metadata": {},
   "outputs": [],
   "source": [
    "for i in 1:length(all_cones)\n",
    " \n",
    "    w = all_cones[i]\n",
    " \n",
    "    S = subdivision_of_points(d38,-w)#compute subdivision\n",
    "    \n",
    "    Tmc = S.pm_subdivision.TIGHT_SPAN\n",
    "    Ts = polyhedral_complex(Tmc)\n",
    "    \n",
    "    Mp = Tmc.MAXIMAL_POLYTOPES#obtain maximal polytopes\n",
    "    Mp = [Vector{Int64}(pm.row(Mp,i)) for i in 1:nrows(Mp)]#convert maximal polytopes to usable type\n",
    "    \n",
    "    Mc = maximal_cells(S)#maximal cells of S\n",
    "    \n",
    "    G = S.pm_subdivision.POLYHEDRAL_COMPLEX.DUAL_GRAPH\n",
    "    G = Graph{Undirected}(G.ADJACENCY)\n",
    "    \n",
    "    if length(common_vertex(Mc))>0\n",
    "       # println(i,\" cvp!\")\n",
    "        \n",
    "        txtcvp = vec2String(w)\n",
    "        open(\"notebooks/new_save_grand_scheme/cvp2.dat\", \"a\")do file\n",
    "        write(file, txtcvp,\"\\n\")\n",
    "        end\n",
    "        continue\n",
    "        \n",
    "    elseif is_tree(G) #F = E -V + 1\n",
    "        # println(i,\" tree!\")\n",
    "        \n",
    "        txttree = vec2String(w)\n",
    "        open(\"notebooks/new_save_grand_scheme/tree2.dat\", \"a\")do file\n",
    "        write(file, txttree,\"\\n\")\n",
    "        end\n",
    "        continue\n",
    "\n",
    "    elseif length(leaf_cvp(Mc,G))>0\n",
    "        #println(i,\" leaf!\")\n",
    "        \n",
    "        txtleaf = vec2String(w)\n",
    "        open(\"notebooks/new_save_grand_scheme/leaf_cvp2.dat\", \"a\")do file\n",
    "        write(file, txtleaf,\"\\n\")\n",
    "        end\n",
    "        continue\n",
    "    \n",
    "    elseif length(branch_cvp(Mc,G))>0\n",
    "        #println(i,\" branch!\")\n",
    "     \n",
    "        txtbranch = vec2String(w)\n",
    "        open(\"notebooks/new_save_grand_scheme/branch_cvp2.dat\", \"a\")do file\n",
    "        write(file, txtbranch,\"\\n\")\n",
    "        end\n",
    "        continue\n",
    "    \n",
    "    elseif length(fin_1_cvp(Mc,G,Ts,Mp))>0\n",
    "        #println(i,\" fin1!\")\n",
    "     \n",
    "        txtfin = vec2String(w)\n",
    "        open(\"notebooks/new_save_grand_scheme/fin_cvp2.dat\", \"a\")do file\n",
    "        write(file, txtfin,\"\\n\")\n",
    "            end\n",
    "        continue\n",
    "    elseif fins_tree(G,Ts,Mp)[1]\n",
    "        #println(i,\" fin2!\")\n",
    "      \n",
    "        txtfintree = vec2String(w)\n",
    "        open(\"notebooks/new_save_grand_scheme/fin_tree2.dat\", \"a\")do file\n",
    "        write(file, txtfintree,\"\\n\")\n",
    "        end\n",
    "        continue\n",
    "        \n",
    "    else\n",
    "        #println(i,\" uh oh\")\n",
    "        \n",
    "        txtcatch = vec2String(w)\n",
    "        open(\"notebooks/new_save_grand_scheme/catch2.dat\", \"a\")do file #this should be empty\n",
    "        write(file, txtcatch,\"\\n\")\n",
    "            end\n",
    "        continue\n",
    "        \n",
    "        \n",
    "    end\n",
    "\n",
    "end\n",
    "\n",
    "print(\"DONE :)\")"
   ]
  },
  {
   "cell_type": "code",
   "execution_count": null,
   "id": "807d1cd4",
   "metadata": {},
   "outputs": [],
   "source": [
    "a1 = vec(readlines(\"notebooks/new_save_grand_scheme/cvp2.dat\"))\n",
    "a2 = vec(readlines(\"notebooks/new_save_grand_scheme/tree2.dat\"))\n",
    "a3 = vec(readlines(\"notebooks/new_save_grand_scheme/leaf_cvp2.dat\"))\n",
    "a4 = vec(readlines(\"notebooks/new_save_grand_scheme/branch_cvp2.dat\"))\n",
    "a5 = vec(readlines(\"notebooks/new_save_grand_scheme/fin_cvp2.dat\"))\n",
    "a6 = vec(readlines(\"notebooks/new_save_grand_scheme/fin_tree2.dat\"))"
   ]
  },
  {
   "cell_type": "code",
   "execution_count": null,
   "id": "3a852579",
   "metadata": {},
   "outputs": [],
   "source": [
    "length(a1)#13641 in paper"
   ]
  },
  {
   "cell_type": "code",
   "execution_count": null,
   "id": "25aabc4a",
   "metadata": {},
   "outputs": [],
   "source": [
    "length(a2)#on point "
   ]
  },
  {
   "cell_type": "code",
   "execution_count": null,
   "id": "51bfda60",
   "metadata": {},
   "outputs": [],
   "source": [
    "length(a3)#on point "
   ]
  },
  {
   "cell_type": "code",
   "execution_count": null,
   "id": "7fabc1d0",
   "metadata": {},
   "outputs": [],
   "source": [
    "length(a4)#on point "
   ]
  },
  {
   "cell_type": "code",
   "execution_count": null,
   "id": "93358cc0",
   "metadata": {},
   "outputs": [],
   "source": [
    "length(a5)#on point"
   ]
  },
  {
   "cell_type": "code",
   "execution_count": null,
   "id": "93df9a66",
   "metadata": {},
   "outputs": [],
   "source": [
    "length(a6)#on point"
   ]
  },
  {
   "cell_type": "code",
   "execution_count": null,
   "id": "5874bf1c",
   "metadata": {},
   "outputs": [],
   "source": [
    "length(a1) + length(a2) + length(a3) + length(a4) + length(a5) + length(a6)  == length(all_cones) #sorting exhaustive"
   ]
  },
  {
   "cell_type": "code",
   "execution_count": null,
   "id": "305743da",
   "metadata": {},
   "outputs": [],
   "source": [
    "A = subsets([a1,a2,a3,a4,a5,a6],2)#check for disjoint"
   ]
  },
  {
   "cell_type": "code",
   "execution_count": null,
   "id": "29191e12",
   "metadata": {},
   "outputs": [],
   "source": [
    "[intersect(b[1],b[2]) for b in A]"
   ]
  }
 ],
 "metadata": {
  "kernelspec": {
   "display_name": "Julia 1.10.4",
   "language": "julia",
   "name": "julia-1.10"
  },
  "language_info": {
   "file_extension": ".jl",
   "mimetype": "application/julia",
   "name": "julia",
   "version": "1.10.4"
  }
 },
 "nbformat": 4,
 "nbformat_minor": 5
}
