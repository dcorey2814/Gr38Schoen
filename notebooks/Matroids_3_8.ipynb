{
 "cells": [
  {
   "cell_type": "markdown",
   "metadata": {},
   "source": [
    "# Cyclic flat property of (3,8)-matroids\n",
    "\n",
    "In this notebook, we verify the claims in the proof of Proposition 4.3:\n",
    "<ul>\n",
    "    <li> up to $\\mathfrak{S}_{8}$-symmetry, there are 325 $(3,8)$--matroids, 68 of which are simple,   </li>\n",
    "    <li> of the simple matroids, all but the ones isomorphic to $\\mathsf{Q}_{\\mathsf{sp}}$ have the following property: there exists an $i \\in [8]$ that is contained in 2 or fewer rank-2 cyclic flats. </li>\n",
    "</ul>"
   ]
  },
  {
   "cell_type": "code",
   "execution_count": 4,
   "metadata": {},
   "outputs": [],
   "source": [
    "using Oscar"
   ]
  },
  {
   "cell_type": "markdown",
   "metadata": {},
   "source": [
    "```r3n8_data``` is the data from the file ```matroids_3_8.dat``` that contains the data of the $(3,8)$-matroids in revlex-basis-encoding-string, up to $\\mathfrak{S}_8$--symmetry. This data was extracted from the Macaulay2 <a href=\"http://www2.macaulay2.com/Macaulay2/doc/Macaulay2-1.20/share/doc/Macaulay2/Matroids/html/index.html\">Matroids</a> package. \n",
    "\n",
    "```r3n8``` is the list of all rank $3$ matroids on $[8]$ up to $\\mathfrak{S}_8$--symmetry.\n",
    "\n",
    "```r3n8_simple``` is the list of all *simple* rank $3$ matroids on $[8]$ up to $\\mathfrak{S}_8$--symmetry."
   ]
  },
  {
   "cell_type": "code",
   "execution_count": 7,
   "metadata": {},
   "outputs": [],
   "source": [
    "r3n8_data = readlines(\"matroids_3_8.dat\");\n",
    "r3n8 = [matroid_from_revlex_basis_encoding(str, 3, 8) for str in r3n8_data];\n",
    "r3n8_simple = [Q for Q in r3n8 if is_simple(Q)];"
   ]
  },
  {
   "cell_type": "markdown",
   "metadata": {},
   "source": [
    "```test_cyclic_flats(Q::Matroid)``` This function returns ```true``` if there is a ```i``` in the ground set of the matroid ```Q``` contained in 2 or fewer cyclic flats, and ```false``` otherwise. "
   ]
  },
  {
   "cell_type": "code",
   "execution_count": 13,
   "metadata": {},
   "outputs": [
    {
     "data": {
      "text/plain": [
       "1-element Vector{Matroid}:\n",
       " Matroid of rank 3 on 8 elements"
      ]
     },
     "execution_count": 13,
     "metadata": {},
     "output_type": "execute_result"
    }
   ],
   "source": [
    "function test_cyclic_flats(Q)\n",
    "    cfs = cyclic_flats(Q,2)\n",
    "    N = matroid_groundset(Q)\n",
    "    index_to_cf = Dict(i => [cf  for cf in cfs if i in cf] for i in N)\n",
    "    return any([length(index_to_cf[i]) < 3 for i in N])\n",
    "end\n",
    "\n",
    "r3n8_simple_failstest = [Q for Q in r3n8_simple if !test_cyclic_flats(Q)];"
   ]
  },
  {
   "cell_type": "markdown",
   "metadata": {},
   "source": [
    "Verification of the first bullet point:"
   ]
  },
  {
   "cell_type": "code",
   "execution_count": 15,
   "metadata": {},
   "outputs": [
    {
     "name": "stdout",
     "output_type": "stream",
     "text": [
      "true\n",
      "true\n"
     ]
    }
   ],
   "source": [
    "println(length(r3n8) == 325)\n",
    "println(length(r3n8_simple) == 68)"
   ]
  },
  {
   "cell_type": "markdown",
   "metadata": {},
   "source": [
    "Verification of the second bullet point:"
   ]
  },
  {
   "cell_type": "code",
   "execution_count": 20,
   "metadata": {},
   "outputs": [
    {
     "name": "stdout",
     "output_type": "stream",
     "text": [
      "true\n",
      "Vector[[1, 2, 3], [1, 4, 5], [1, 7, 8], [2, 4, 6], [2, 5, 8], [3, 4, 7], [3, 6, 8], [5, 6, 7]]\n"
     ]
    }
   ],
   "source": [
    "println(length(r3n8_simple_failstest) == 1)\n",
    "Q = r3n8_simple_failstest[1]\n",
    "println(cyclic_flats(Q,2))"
   ]
  },
  {
   "cell_type": "markdown",
   "metadata": {},
   "source": [
    "and one readily verifies that the unique matroid in ```r3n8_simple_failstest``` is isomorphic to $\\mathsf{Q}_{\\mathsf{sp}}$."
   ]
  }
 ],
 "metadata": {
  "kernelspec": {
   "display_name": "Julia 1.7.1",
   "language": "julia",
   "name": "julia-1.7"
  },
  "language_info": {
   "file_extension": ".jl",
   "mimetype": "application/julia",
   "name": "julia",
   "version": "1.7.3"
  }
 },
 "nbformat": 4,
 "nbformat_minor": 4
}
