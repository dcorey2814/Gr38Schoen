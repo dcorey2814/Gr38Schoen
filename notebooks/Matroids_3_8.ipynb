{
 "cells": [
  {
   "cell_type": "markdown",
   "metadata": {},
   "source": [
    "# Cyclic flat property of (3,8)-matroids\n",
    "\n",
    "In this notebook, we verify the claims in the proof of Proposition 4.3:\n",
    "<ul>\n",
    "    <li> up to $\\mathfrak{S}_{8}$-symmetry, there are 325 $(3,8)$--matroids, 68 of which are simple,   </li>\n",
    "    <li> of the simple matroids, all but the ones isomorphic to $\\mathsf{Q}_{\\mathsf{sp}}$ have the following property: there exists an $i \\in [8]$ that is contained in 2 or fewer rank-2 cyclic flats. </li>\n",
    "</ul>"
   ]
  },
  {
   "cell_type": "code",
   "execution_count": 2,
   "metadata": {},
   "outputs": [
    {
     "name": "stdout",
     "output_type": "stream",
     "text": [
      "  ___   ____   ____    _    ____\n",
      " / _ \\ / ___| / ___|  / \\  |  _ \\   |  Combining ANTIC, GAP, Polymake, Singular\n",
      "| | | |\\___ \\| |     / _ \\ | |_) |  |  Type \"?Oscar\" for more information\n",
      "| |_| | ___) | |___ / ___ \\|  _ <   |  Manual: https://docs.oscar-system.org\n",
      " \\___/ |____/ \\____/_/   \\_\\_| \\_\\  |  Version 1.0.3\n"
     ]
    }
   ],
   "source": [
    "using Oscar\n",
    "cd(\"..\")"
   ]
  },
  {
   "cell_type": "markdown",
   "metadata": {},
   "source": [
    "```db``` is a handle to the polydb.\n",
    "\n",
    "```collection``` is a handle to the collection of matroids inside the\n",
    "polydb.\n",
    "\n",
    "```cursor``` is a cursor to the matroids in the collection that satisfy \n",
    "the conditions `RANK=3`, `SIMPLE=true`, and `N_ELEMENTS=8`.\n",
    "\n",
    "```r3n8_simple``` is the list of all *simple* rank $3$ matroids on $[8]$ up to $\\mathfrak{S}_8$--symmetry."
   ]
  },
  {
   "cell_type": "code",
   "execution_count": 4,
   "metadata": {},
   "outputs": [],
   "source": [
    "db = Oscar.Polymake.Polydb.get_db()\n",
    "collection = db[\"Matroids.Small\"]\n",
    "cursor=Oscar.Polymake.Polydb.find(collection, Dict(\"RANK\" => 3,\"SIMPLE\"=>true,\"N_ELEMENTS\"=>8))\n",
    "r3n8_simple=Matroid.(cursor);"
   ]
  },
  {
   "cell_type": "markdown",
   "metadata": {},
   "source": [
    "```test_cyclic_flats(Q::Matroid)``` This function returns ```true``` if there is a ```i``` in the ground set of the matroid ```Q``` contained in 2 or fewer cyclic flats, and ```false``` otherwise. "
   ]
  },
  {
   "cell_type": "code",
   "execution_count": null,
   "metadata": {},
   "outputs": [],
   "source": [
    "function test_cyclic_flats(Q)\n",
    "    cfs = cyclic_flats(Q,2)\n",
    "    N = matroid_groundset(Q)\n",
    "    index_to_cf = Dict(i => [cf  for cf in cfs if i in cf] for i in N)\n",
    "    return any([length(index_to_cf[i]) < 3 for i in N])\n",
    "end\n",
    "\n",
    "r3n8_simple_failstest = [Q for Q in r3n8_simple if !test_cyclic_flats(Q)];"
   ]
  },
  {
   "cell_type": "markdown",
   "metadata": {},
   "source": [
    "Verification of the first bullet point:"
   ]
  },
  {
   "cell_type": "code",
   "execution_count": null,
   "metadata": {},
   "outputs": [],
   "source": [
    "println(length(r3n8) == 325)\n",
    "println(length(r3n8_simple) == 68)"
   ]
  },
  {
   "cell_type": "markdown",
   "metadata": {},
   "source": [
    "Verification of the second bullet point:"
   ]
  },
  {
   "cell_type": "code",
   "execution_count": null,
   "metadata": {},
   "outputs": [],
   "source": [
    "println(length(r3n8_simple_failstest) == 1)\n",
    "Q = r3n8_simple_failstest[1]\n",
    "println(cyclic_flats(Q,2))"
   ]
  },
  {
   "cell_type": "markdown",
   "metadata": {},
   "source": [
    "and one readily verifies that the unique matroid in ```r3n8_simple_failstest``` is isomorphic to $\\mathsf{Q}_{\\mathsf{mk}}$."
   ]
  },
  {
   "cell_type": "code",
   "execution_count": null,
   "metadata": {},
   "outputs": [],
   "source": []
  }
 ],
 "metadata": {
  "kernelspec": {
   "display_name": "Julia 1.10.3",
   "language": "julia",
   "name": "julia-1.10"
  },
  "language_info": {
   "file_extension": ".jl",
   "mimetype": "application/julia",
   "name": "julia",
   "version": "1.10.3"
  }
 },
 "nbformat": 4,
 "nbformat_minor": 4
}
