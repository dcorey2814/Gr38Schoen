{
 "cells": [
  {
   "cell_type": "markdown",
   "metadata": {},
   "source": [
    "# Group $\\mathsf{G}_3$\n",
    "\n",
    "Given a combinatorial type $\\mathsf{w}$, let $\\Sigma_{L}$ be the subcomplex of $\\mathsf{TS}(\\mathsf{w})$ obtained by removing each leaf-pair. The combinatorial types $\\mathsf{w}$ belonging to $\\mathsf{G}_3$ are those not in $\\mathsf{G}_i$ ($i\\leq 2$), and such that $\\Sigma_{L}$ is vertex-connecting. "
   ]
  },
  {
   "cell_type": "code",
   "execution_count": null,
   "metadata": {
    "scrolled": true
   },
   "outputs": [],
   "source": [
    "using Oscar\n",
    "using Combinatorics\n",
    "pm = Polymake"
   ]
  },
  {
   "cell_type": "code",
   "execution_count": null,
   "metadata": {},
   "outputs": [],
   "source": [
    "cd(\"..\")"
   ]
  },
  {
   "cell_type": "code",
   "execution_count": null,
   "metadata": {},
   "outputs": [],
   "source": [
    "currentDir = pwd()\n",
    "include(joinpath(currentDir, \"src/inputData38.jl\"));\n",
    "include(joinpath(currentDir, \"src/fileHandling.jl\"));\n",
    "include(joinpath(currentDir, \"src/tscCoordRing.jl\"));\n",
    "include(joinpath(currentDir, \"src/matroidalSubd.jl\"));\n",
    "include(joinpath(currentDir, \"src/Bmaximal.jl\"));\n",
    "include(joinpath(currentDir, \"src/simplifyIdeal.jl\"));"
   ]
  },
  {
   "cell_type": "markdown",
   "metadata": {},
   "source": [
    "The list ```G3``` contains all combinatorial types in $\\mathsf{G}_3$. "
   ]
  },
  {
   "cell_type": "code",
   "execution_count": null,
   "metadata": {},
   "outputs": [],
   "source": [
    "G3Path = joinpath(currentDir,\"groupsFinal/G3.dat\")\n",
    "G3 = file2SetVectors(G3Path);"
   ]
  },
  {
   "cell_type": "markdown",
   "metadata": {},
   "source": [
    "For a given combinatorial type $\\mathsf{w}$, we determine $\\Sigma_L$, and compute its coordinate ring using Proposition 6.3, implemented by the function ```limitTSC```. Then we determine those whose ideal $I_{\\Sigma_L}$ satisfies the hypotheses of Lemma 6.11. \n",
    "\n",
    "**Warning!! The cell below takes a long time to run.**\n",
    "\n",
    "Better to run on a small sample size. To handle the entire loop, run in a terminal, using ```julia```, from the main directory, the file ```G3Data/G3HasUpperTriangular.jl```. This takes ~8.5 hours. "
   ]
  },
  {
   "cell_type": "code",
   "execution_count": null,
   "metadata": {},
   "outputs": [],
   "source": [
    "hasUpperTriangularG3 = []\n",
    "doesntHaveUpperTriangularG3 = []\n",
    "\n",
    "R, x = makePolyRing(3,8, QQ)\n",
    "\n",
    "UTFile = joinpath(currentDir,\"G3Data/hasUpperTriangularG3.dat\")\n",
    "NUTFile = joinpath(currentDir,\"G3Data/doesnthaveUpperTriangularG3.dat\")\n",
    "\n",
    "io1 = open(UTFile, \"w\") \n",
    "io2 = open(NUTFile, \"w\")\n",
    "close(io1)\n",
    "close(io2)\n",
    "\n",
    "\n",
    "for w in G3\n",
    "    subd = SubdivisionOfPoints(vDelta38[:,2:9], -w)\n",
    "    Ms = subdMatroidsNonLeaves(subd,3,8)\n",
    "    \n",
    "    optBs = optimalBasesForLimit(Ms)\n",
    "    Lim = limitTSC(Ms, QQ, first(optBs), R, x)\n",
    "    \n",
    "    Rt = base_ring(Lim)\n",
    "    xt = gens(base_ring(Lim))\n",
    "    gLim = minimal_generating_set(Lim)\n",
    "    \n",
    "    if systemHasUniUpperTriangle(gLim, Rt, xt)\n",
    "        push!(hasUpperTriangularG3, w)\n",
    "\n",
    "        open(UTFile, \"a\") do io\n",
    "            write(io, vec2String(w), \"\\n\")\n",
    "        end;\n",
    "\n",
    "        \n",
    "    else\n",
    "        push!(doesntHaveUpperTriangularG3, w)\n",
    "        open(NUTFile, \"a\") do io\n",
    "            write(io, vec2String(w), \"\\n\")\n",
    "        end;\n",
    "    end\n",
    "    \n",
    "end"
   ]
  },
  {
   "cell_type": "code",
   "execution_count": null,
   "metadata": {},
   "outputs": [],
   "source": [
    "hasUpperTriangularG3 = file2SetVectors(joinpath(currentDir, \"G3Data/hasUpperTriangularG3-precomputed.dat\"));\n",
    "doesntHaveUpperTriangularG3 = file2SetVectors(joinpath(currentDir, \"G3Data/doesnthaveUpperTriangularG3-precomputed.dat\"));"
   ]
  },
  {
   "cell_type": "markdown",
   "metadata": {},
   "source": [
    "We appply Algorithm 6.12 to the combinatorial types in ```doesntHaveUpperTriangularG3```. If the output ideal is $\\langle 0 \\rangle$, then the function ```canReduceIdeal``` returns ```true```. In this case, the ring $R_{\\Sigma_{L}}$ is a regular integral domain. \n",
    "\n",
    "**Warning!! The cell below takes a long time to run.**\n",
    "\n",
    "Better to run on a small sample size. To handle the entire loop, run in a terminal, using ```julia```, from the main directory, the file ```G3Data/G3SimplifyIdeals.jl```. This takes ~40 min."
   ]
  },
  {
   "cell_type": "code",
   "execution_count": null,
   "metadata": {},
   "outputs": [],
   "source": [
    "canFullySimplifyG3 = []\n",
    "cannotFullySimplifyG3 = []\n",
    "\n",
    "R, x = makePolyRing(3,8, QQ)\n",
    "\n",
    "canFile = joinpath(currentDir,\"G3Data/canFullySimplifyG3.dat\")\n",
    "cannotFile = joinpath(currentDir,\"G3Data/cannotFullySimplifyG3.dat\")\n",
    "\n",
    "#io1 = open(canFile, \"w\") \n",
    "#io2 = open(cannotFile, \"w\")\n",
    "#close(io1)\n",
    "#close(io2)\n",
    "\n",
    "\n",
    "for w in doesntHaveUpperTriangularG3\n",
    "    subd = SubdivisionOfPoints(vDelta38[:,2:9], -w)\n",
    "    Ms = subdMatroidsNonLeaves(subd,3,8)\n",
    "    \n",
    "    optBs = optimalBasesForLimit(Ms)\n",
    "    Lim = limitTSC(Ms, QQ, first(optBs), R, x)\n",
    "    gLim = minimal_generating_set(Lim)\n",
    "    \n",
    "    Sinv = localizingSemiGroup(Ms, QQ, first(optBs), R, x)\n",
    "    SR = Localization(Sinv)[1]\n",
    "    \n",
    "    if canReduceIdeal(gLim, R, x, Sinv, SR)\n",
    "        push!(canFullySimplifyG3, w)\n",
    "        \n",
    "        open(canFile, \"a\") do io\n",
    "           write(io, vec2String(w), \"\\n\")\n",
    "        end;\n",
    "    else\n",
    "        push!(cannotFullySimplifyG3, w)\n",
    "        \n",
    "        open(cannotFile, \"a\") do io\n",
    "           write(io, vec2String(w), \"\\n\")\n",
    "        end;\n",
    "    end\n",
    "end\n",
    "\n"
   ]
  },
  {
   "cell_type": "markdown",
   "metadata": {},
   "source": [
    "As we see, ```canReduceIdeal``` returns true for all of the combinatorial types in ```doesntHaveUpperTriangularG3```."
   ]
  },
  {
   "cell_type": "code",
   "execution_count": null,
   "metadata": {},
   "outputs": [],
   "source": [
    "cannotFullySimplifyG3 = file2SetVectors(joinpath(currentDir, \"G3Data/cannotFullySimplifyG3-precomputed.dat\"));\n",
    "print(length(cannotFullySimplifyG3) == 0)"
   ]
  },
  {
   "cell_type": "markdown",
   "metadata": {},
   "source": [
    "## Dimension of $\\operatorname{Gr}(\\mathsf{w})$\n",
    "\n",
    "Next we check that the dimensions $\\operatorname{Gr}(\\mathsf{w})$ are 15 for each $\\mathsf{w}$ in $\\mathsf{G}_3$. We do this by applying Proposition 6.9, which is implemented in the function ```dimLimitLeafCVP``` below. \n",
    "\n",
    "---\n",
    "**Function**: ```dimBRing_MatList(Ms::Vector{Matroid}, xi::Vector{Int64})```\n",
    "\n",
    "*Description*: \n",
    "\n",
    "*Example*: \n",
    "\n",
    "---\n",
    "**Function**: ```dimLimitTSC(Ms::Vector{Matroid}, F::Ring, B::Vector{Int64}, R::GradedPolynomialRing, x::fmpz_mpoly)```\n",
    "\n",
    "*Description*: \n",
    "\n",
    "*Example*: \n",
    "\n",
    "---\n",
    "**Function**: ```dimLimitLeafCVP(subd::SubdivisionOfPoints, F::Ring, d::Int64, n::Int64, R::GradedPolynomialRing, x::fmpz_mpoly)```\n",
    "\n",
    "*Description*: \n",
    "\n",
    "*Example*: \n"
   ]
  },
  {
   "cell_type": "code",
   "execution_count": null,
   "metadata": {},
   "outputs": [],
   "source": [
    "function dimLimitLeafCVP(subd, F, d, n, R, x)\n",
    "    (leafMaxMatroids, leafEdgeMaxMatroids, remainingMaxMatroids)  = subd2LeavesAndCenter(subd, d, n)\n",
    "    \n",
    "    dimsLeafMax = [dimTSC_Optimized(M, F, R, x) for M in leafMaxMatroids ]; \n",
    "    dimsLeafEdge = [dimTSC_Optimized(M, F, R, x) for M in leafEdgeMaxMatroids]\n",
    "    dimCenter = dimLimitTSC(remainingMaxMatroids, F, R, x)\n",
    "    \n",
    "    return sum(dimsLeafMax) - sum(dimsLeafEdge) + dimCenter\n",
    "end"
   ]
  },
  {
   "cell_type": "markdown",
   "metadata": {},
   "source": [
    "**Warning!! The cell below takes a long time to run.**\n",
    "\n",
    "Better to run on a small sample size. To handle the entire loop, run in a terminal, using ```julia```, from the main directory, the file ```G3Data/G3Dims.jl```. This takes ~9 hours."
   ]
  },
  {
   "cell_type": "code",
   "execution_count": null,
   "metadata": {},
   "outputs": [],
   "source": [
    "R, x =  makePolyRing(3,8,QQ)\n",
    "dims_G3 = []\n",
    "\n",
    "\n",
    "dimFile = joinpath(currentDir, \"G3Data/dims_G3.dat\")\n",
    "io1 = open(dimFile, \"w\") \n",
    "close(io1)\n",
    "\n",
    "\n",
    "for i in 1:10\n",
    "    w = G3[i]\n",
    "    subd = SubdivisionOfPoints(vDelta38[:,2:9], -w)\n",
    "    d = dimLimitLeafCVP(subd, QQ, 3, 8, R, x)\n",
    "    push!(dims_G3, d)\n",
    "    \n",
    "    open(dimFile, \"a\") do io\n",
    "        write(io, string(\"dim w\", i, \" = \" , d, \"\\n\"))\n",
    "        end\n",
    "    \n",
    "end\n"
   ]
  }
 ],
 "metadata": {
  "kernelspec": {
   "display_name": "Julia 1.7.1",
   "language": "julia",
   "name": "julia-1.7"
  },
  "language_info": {
   "file_extension": ".jl",
   "mimetype": "application/julia",
   "name": "julia",
   "version": "1.7.3"
  }
 },
 "nbformat": 4,
 "nbformat_minor": 4
}
