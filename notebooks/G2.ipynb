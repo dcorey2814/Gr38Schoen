{
 "cells": [
  {
   "cell_type": "markdown",
   "metadata": {},
   "source": [
    "# Group $\\mathsf{G}_2$\n",
    "\n",
    "The combinatorial types $\\mathsf{w}$ belonging to $\\mathsf{G}_2$ are those not in $\\mathsf{G}_1$, and whose dual-graph is a tree. "
   ]
  },
  {
   "cell_type": "code",
   "execution_count": null,
   "metadata": {},
   "outputs": [],
   "source": [
    "using Oscar\n",
    "using Combinatorics\n",
    "pm = Polymake;"
   ]
  },
  {
   "cell_type": "code",
   "execution_count": null,
   "metadata": {},
   "outputs": [],
   "source": [
    "cd(\"..\")"
   ]
  },
  {
   "cell_type": "code",
   "execution_count": null,
   "metadata": {},
   "outputs": [],
   "source": [
    "currentDir = pwd()\n",
    "include(joinpath(currentDir, \"src/inputData38.jl\"));\n",
    "include(joinpath(currentDir, \"src/fileHandling.jl\"));\n",
    "include(joinpath(currentDir, \"src/tscCoordRing.jl\"));\n",
    "include(joinpath(currentDir, \"src/matroidalSubd.jl\"));\n",
    "include(joinpath(currentDir, \"src/Bmaximal.jl\"));\n",
    "include(joinpath(currentDir, \"src/simplifyIdeal.jl\"));"
   ]
  },
  {
   "cell_type": "markdown",
   "metadata": {},
   "source": [
    "First, we determine which combinatorial types $\\mathsf{w}$ in $\\mathsf{G}_2$ that satisfy the hypotheses of Proposition 6.6, i.e., all but (possibly) one of the matroids $\\mathsf{Q}_v$ (for $v\\in V(\\Gamma(\\mathsf{w}))$) is $B$-maximal.\n",
    "\n",
    "---\n",
    "**Function**: ```test_all_But_One_BMaximal(Ms::Vector{Matroid},  F::Ring, R::GradedPolynomialRing, x::fmpz_mpoly)```\n",
    "\n",
    "*Description*: Returns ```true``` if ```exists_Basis_With_DimB_Equals_DimTSC(M,  F)``` is ```false``` for at most 1 matroid  ```M``` in ```Ms```, and ```false``` otherwise. \n"
   ]
  },
  {
   "cell_type": "code",
   "execution_count": null,
   "metadata": {},
   "outputs": [],
   "source": [
    "function test_all_But_One_BMaximal(Ms, F, R, x)\n",
    "    tests = [isBMaximal(M, F, R, x) for M in Ms]\n",
    "    numberTestsTrue = length([a for a in tests if a])\n",
    "    \n",
    "    return length(Ms) - numberTestsTrue ≤ 1\n",
    "end;"
   ]
  },
  {
   "cell_type": "markdown",
   "metadata": {},
   "source": [
    "The list ```G2``` contains all combinatorial types in $\\mathsf{G}_2$. "
   ]
  },
  {
   "cell_type": "code",
   "execution_count": null,
   "metadata": {},
   "outputs": [],
   "source": [
    "G2Path = joinpath(currentDir,\"groupsFinal/G2.dat\")\n",
    "G2 = file2SetVectors(G2Path);"
   ]
  },
  {
   "cell_type": "code",
   "execution_count": null,
   "metadata": {},
   "outputs": [],
   "source": [
    "fails_test_all_But_One = []\n",
    "passes_test_all_But_One = []\n",
    "\n",
    "R,x = makePolyRing(3,8,QQ)\n",
    "\n",
    "for w in G2\n",
    "    subd = SubdivisionOfPoints(vDelta38[:,2:9], -w)\n",
    "    Mats = subd2Matroids(subd, 3, 8)\n",
    "    if test_all_But_One_BMaximal(Mats, QQ, R, x) == false\n",
    "        push!(fails_test_all_But_One, w)\n",
    "    else\n",
    "        push!(passes_test_all_But_One, w)\n",
    "    end\n",
    "end"
   ]
  },
  {
   "cell_type": "markdown",
   "metadata": {},
   "source": [
    "There are 4 combinatorial types that do not satisfy the hypotheses of Proposition 6.6."
   ]
  },
  {
   "cell_type": "code",
   "execution_count": null,
   "metadata": {},
   "outputs": [],
   "source": [
    "length(fails_test_all_But_One) == 4"
   ]
  },
  {
   "cell_type": "markdown",
   "metadata": {},
   "source": [
    "For the remaining $\\mathsf{w}$, we check that all but (possibly) one of the $\\mathsf{Q}_{v}$ have at least 2 parallel elements. For these $\\mathsf{Q}_{v}$, the thin Schubert cells $\\operatorname{Gr}(\\mathsf{Q}_{v})$ are smooth and irreducible, and any face morphism with source $\\operatorname{Gr}(\\mathsf{Q}_{v})$ is smooth and dominant with connected fibers. We use the following functions.  \n",
    "\n",
    "---\n",
    "\n",
    "**Function**: ```numberParallelElements(M::Matroid)```\n",
    "\n",
    "*Description*: This function records the number of non-loop elements parallel to another element. \n",
    "\n",
    "*Example*: The matroid below has ```uniform_matroid(3,4)``` as its simplification.  \n",
    "```\n",
    "M = matroid_from_hyperplanes([[1,2,3,8,9],[1,4,5,6,8,9],[1,7,8,9],[2,3,4,5,6,8,9],[2,3,7,8,9],[4,5,6,7,8,9]], 9)\n",
    "numberParallelElements(M) = 3\n",
    "```\n",
    "---\n",
    "**Function**: ```subd2ParallelElements(Ms::Vector{Matroid})```\n",
    "\n",
    "*Description*: Given list of matroids ```Ms```, this function returns a list, where the ```k```-th entry records the number of parallel elements of the ```k```-th matroid of ```Ms```. \n",
    "\n",
    "*Example*: \n",
    "\n",
    "---\n",
    "**Function**: ```allBut1HaveGeq2ParallelElements(w::Vector{Int64})```\n",
    "\n",
    "*Description*: The vector ```w``` must lie in $\\operatorname{Dr}(3,8)$. Let ```Ms``` be the list of matroids of maximal cells in the corresponding matroidal subdivision of $\\Delta(3,8)$. This function returns ```true``` if at most 1 matroid in ```Ms``` has fewer than 2 parallel elements, and ```false``` otherwise. \n",
    "\n",
    "*Example*: \n",
    "\n",
    "---"
   ]
  },
  {
   "cell_type": "code",
   "execution_count": null,
   "metadata": {},
   "outputs": [],
   "source": [
    "function numberParallelElements(M)\n",
    "    f1 = flats(M,1)\n",
    "    lps = loops(M)\n",
    "    GS = matroid_groundset(M)\n",
    "    return length(GS) - length(f1) - length(lps)\n",
    "end;\n",
    "\n",
    "function subd2ParallelElements(Ms)\n",
    "#    subd = SubdivisionOfPoints(vDelta38[:,2:9], w)\n",
    "#    MatsSubd = subd2Matroids(subd, 3, 8)\n",
    "    return [numberParallelElements(M) for M in Ms]\n",
    "end;\n",
    "\n",
    "function allBut1HaveGeq2ParallelElements(w)\n",
    "    subd = SubdivisionOfPoints(vDelta38[:,2:9], -w)\n",
    "    Ms = subd2Matroids(subd, 3, 8)\n",
    "    numParallel = subd2ParallelElements(Ms)\n",
    "    geq2 = [a for a in numParallel if a ≥ 2]\n",
    "    return length(numParallel) - length(geq2) ≤ 1\n",
    "end;"
   ]
  },
  {
   "cell_type": "code",
   "execution_count": null,
   "metadata": {},
   "outputs": [],
   "source": [
    "print(all([allBut1HaveGeq2ParallelElements(w) for w in fails_test_all_But_One]))"
   ]
  },
  {
   "cell_type": "markdown",
   "metadata": {},
   "source": [
    "## Dimension of $\\operatorname{Gr}(\\mathsf{w})$\n",
    "\n",
    "Next we check that the dimensions $\\operatorname{Gr}(\\mathsf{w})$ are 15 for each $\\mathsf{w}$ in $\\mathsf{G}_2$. \n",
    "\n",
    "\n",
    "---\n",
    "**Function**: ```dimLimitTree(subd::SubdivisionOfPoints, F::Ring, d::Int64, n::Int64)```\n",
    "\n",
    "*Description*: Computes the dimension of the inverse limit of thin Schubert cells, when the diagram is a tree (assuming the hypotheses of this dimension formula hold).\n",
    "\n",
    "*Example*: \n"
   ]
  },
  {
   "cell_type": "code",
   "execution_count": null,
   "metadata": {},
   "outputs": [],
   "source": [
    "function dimLimitTree(subd, F, d, n, R, x)\n",
    "    maxMatroids, codim1Matroids = subd2CodimLeq1Matroids(subd, d, n)\n",
    "        \n",
    "    dimsMax = [dimTSC_Optimized(M, F, R, x) for M in maxMatroids ]; \n",
    "    dimsCodim1 = [dimTSC_Optimized(M, F, R, x) for M in codim1Matroids   ]\n",
    "    return sum(dimsMax) - sum(dimsCodim1)\n",
    "end"
   ]
  },
  {
   "cell_type": "code",
   "execution_count": null,
   "metadata": {
    "scrolled": true
   },
   "outputs": [],
   "source": [
    "R,x = makePolyRing(3,8,QQ)\n",
    "dimsTrees = []\n",
    "i=1\n",
    "for w in G2\n",
    "    subd = SubdivisionOfPoints(vDelta38[:,2:9], -w)\n",
    "    dimT = dimLimitTree(subd, QQ, 3, 8, R, x)\n",
    "    push!(dimsTrees, dimT)\n",
    "    #print(dimT, \"\\n\")\n",
    "end"
   ]
  },
  {
   "cell_type": "code",
   "execution_count": null,
   "metadata": {},
   "outputs": [],
   "source": [
    "all([d == 15 for d in dimsTrees])"
   ]
  },
  {
   "cell_type": "markdown",
   "metadata": {},
   "source": [
    "### Example\n",
    "\n",
    "We consider the example $\\mathsf{w} = \\mathsf{e}_{126} + \\mathsf{e}_{234} + \\mathsf{e}_{237} + 2\\mathsf{e}_{238} + \\mathsf{e}_{247} + \\mathsf{e}_{248} + \\mathsf{e}_{278} + \\mathsf{e}_{347} + \\mathsf{e}_{348} + \\mathsf{e}_{378} + 2\\mathsf{e}_{478} + \\mathsf{e}_{568}$."
   ]
  },
  {
   "cell_type": "code",
   "execution_count": null,
   "metadata": {},
   "outputs": [],
   "source": [
    "include(joinpath(currentDir, \"src/specificMatroids.jl\"));\n",
    "w = [0, 0, 0, 1, 0, 0, 0, 0, 0, 0, 0, 0, 0, 0, 0, 0, 0, 0, 0, 0, 0, 1, 0, 0, 1, 2, 0, 0, 1, 1, 0, 0, 0, 0, 0, 1, 0, 0, 1, 1, 0, 0, 0, 0, 0, 1, 0, 0, 0, 0, 0, 2, 0, 1, 0, 0]\n",
    "subd = SubdivisionOfPoints(vDelta38[:,2:9], w)\n",
    "GammaPolymake = subd.pm_subdivision.POLYHEDRAL_COMPLEX.DUAL_GRAPH\n",
    "Gamma = Graphs.Graph{Graphs.Undirected}(GammaPolymake.ADJACENCY)\n",
    "Ms = subd2Matroids(subd,3,8);"
   ]
  },
  {
   "cell_type": "markdown",
   "metadata": {},
   "source": [
    "The dual graph ```Gamma``` is a tree:"
   ]
  },
  {
   "cell_type": "code",
   "execution_count": null,
   "metadata": {},
   "outputs": [],
   "source": [
    "Graphs.ne(Gamma) - Graphs.nv(Gamma) + 1 == 0"
   ]
  },
  {
   "cell_type": "markdown",
   "metadata": {},
   "source": [
    "Here are the matroids of the nodes of ```Gamma```."
   ]
  },
  {
   "cell_type": "code",
   "execution_count": null,
   "metadata": {},
   "outputs": [],
   "source": [
    "M1 = matroidU([1],[2],[6],[3,4,5,7,8])\n",
    "M2 = matroid_from_hyperplanes([[2, 3, 4, 7, 8], [5, 6, 8], [1, 2, 6], [6, 7], [5, 7], [4, 6], [4, 5], [3, 6], [3, 5], [2, 5], [1, 8], [1, 7], [1, 5], [1, 4], [1, 3]], 8)\n",
    "M3 = matroid_from_hyperplanes([[1, 5, 6, 8], [1, 5, 6, 7], [1, 4, 5, 6], [1, 3, 5, 6], [1, 2, 5, 6], [4, 7, 8], [2, 3, 8], [3, 7], [3, 4], [2, 7], [2, 4]], 8)\n",
    "M4 = matroidU([2],[3],[8],[1,4,5,6,7])\n",
    "M5 = matroidU([5],[6],[8],[1,2,3,4,7])\n",
    "M6 = matroidU([4],[7],[8],[1,2,3,5,6])\n",
    "\n",
    "all([bases(Ms[1]) == bases(M1), \n",
    "     bases(Ms[2]) == bases(M2), \n",
    "     bases(Ms[3]) == bases(M3), \n",
    "     bases(Ms[4]) == bases(M4),\n",
    "     bases(Ms[5]) == bases(M5), \n",
    "     bases(Ms[6]) == bases(M6)])"
   ]
  },
  {
   "cell_type": "markdown",
   "metadata": {},
   "source": [
    "The dimensions of the thin Schubert cells of the matroids of the vertices and edges."
   ]
  },
  {
   "cell_type": "code",
   "execution_count": null,
   "metadata": {},
   "outputs": [],
   "source": [
    "R,x = makePolyRing(3,8,QQ)\n",
    "\n",
    "function matroidOfEdge(Ms,e, n)\n",
    "    B1 = bases(Ms[e[1]])\n",
    "    B2 = bases(Ms[e[2]])\n",
    "    return matroid_from_bases(intersect(B1,B2), n)\n",
    "end\n",
    "\n",
    "M12 = matroidOfEdge(Ms,[1,2],8)\n",
    "M23 = matroidOfEdge(Ms,[2,3],8)\n",
    "M25 = matroidOfEdge(Ms,[2,5],8)\n",
    "M34 = matroidOfEdge(Ms,[3,4],8)\n",
    "M36 = matroidOfEdge(Ms,[3,6],8)\n",
    "\n",
    "all([\n",
    "dimTSC_Optimized(M1, QQ, R, x) == 7,\n",
    "dimTSC_Optimized(M2, QQ, R, x) == 10,\n",
    "dimTSC_Optimized(M3, QQ, R, x) == 9,\n",
    "dimTSC_Optimized(M4, QQ, R, x) == 7,\n",
    "dimTSC_Optimized(M5, QQ, R, x) == 7,\n",
    "dimTSC_Optimized(M6, QQ, R, x) == 7,\n",
    "        \n",
    "dimTSC_Optimized(M12, QQ, R, x) == 6,\n",
    "dimTSC_Optimized(M23, QQ, R, x) == 8,\n",
    "dimTSC_Optimized(M25, QQ, R, x) == 6,\n",
    "dimTSC_Optimized(M34, QQ, R, x) == 6,\n",
    "dimTSC_Optimized(M36, QQ, R, x) == 6\n",
    "        ])"
   ]
  }
 ],
 "metadata": {
  "kernelspec": {
   "display_name": "Julia 1.7.1",
   "language": "julia",
   "name": "julia-1.7"
  },
  "language_info": {
   "file_extension": ".jl",
   "mimetype": "application/julia",
   "name": "julia",
   "version": "1.7.3"
  }
 },
 "nbformat": 4,
 "nbformat_minor": 4
}
