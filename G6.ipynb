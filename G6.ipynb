{
 "cells": [
  {
   "cell_type": "code",
   "execution_count": 1,
   "metadata": {},
   "outputs": [
    {
     "name": "stdout",
     "output_type": "stream",
     "text": [
      "\r",
      " -----    -----    -----      -      -----   \n",
      "|     |  |     |  |     |    | |    |     |  \n",
      "|     |  |        |         |   |   |     |  \n",
      "|     |   -----   |        |     |  |-----   \n",
      "|     |        |  |        |-----|  |   |    \n",
      "|     |  |     |  |     |  |     |  |    |   \n",
      " -----    -----    -----   -     -  -     -  \n",
      "\n",
      "...combining (and extending) ANTIC, GAP, Polymake and Singular\n",
      "Version\u001b[32m 0.9.0 \u001b[39m... \n",
      " ... which comes with absolutely no warranty whatsoever\n",
      "Type: '?Oscar' for more information\n",
      "(c) 2019-2022 by The Oscar Development Team\n"
     ]
    },
    {
     "data": {
      "text/plain": [
       "Polymake"
      ]
     },
     "execution_count": 1,
     "metadata": {},
     "output_type": "execute_result"
    }
   ],
   "source": [
    "using Oscar\n",
    "using Combinatorics\n",
    "pm = Polymake"
   ]
  },
  {
   "cell_type": "code",
   "execution_count": 5,
   "metadata": {},
   "outputs": [],
   "source": [
    "currentDir = pwd()\n",
    "include(joinpath(currentDir, \"src/inputData38.jl\"));\n",
    "include(joinpath(currentDir, \"src/fileHandling.jl\"));\n",
    "include(joinpath(currentDir, \"src/tscCoordRing.jl\"));\n",
    "include(joinpath(currentDir, \"src/matroidalSubd.jl\"));\n",
    "include(joinpath(currentDir, \"src/Bmaximal.jl\"));\n",
    "include(joinpath(currentDir, \"src/simplifyIdeal.jl\"));\n",
    "include(joinpath(currentDir, \"src/specificMatroids.jl\"));"
   ]
  },
  {
   "cell_type": "markdown",
   "metadata": {},
   "source": [
    "The list ```G6``` contains all combinatorial types in $\\mathsf{G}_6$. "
   ]
  },
  {
   "cell_type": "code",
   "execution_count": 8,
   "metadata": {},
   "outputs": [],
   "source": [
    "G6Path = joinpath(currentDir,\"groupsFinal/G6.dat\")\n",
    "G6 = file2SetVectors(G6Path);"
   ]
  },
  {
   "cell_type": "code",
   "execution_count": 3,
   "metadata": {},
   "outputs": [
    {
     "data": {
      "text/plain": [
       "countPolygonsInTightSpan (generic function with 1 method)"
      ]
     },
     "execution_count": 3,
     "metadata": {},
     "output_type": "execute_result"
    }
   ],
   "source": [
    "function tightSpanMaximalPolytopes(subd)\n",
    "    TS = subd.pm_subdivision.TIGHT_SPAN; #print(1)\n",
    "    MaxPoly = TS.MAXIMAL_POLYTOPES; #print(2);\n",
    "    NMaxPoly = Int64(TS.N_MAXIMAL_POLYTOPES); #print(typeof(NMaxPoly)) \n",
    "    NVerts = Int64(TS.N_VERTICES); #print(typeof(NVerts));\n",
    "    return [[j for j in 1:NVerts if  MaxPoly[i, j]] for i in 1:NMaxPoly]\n",
    "end\n",
    "\n",
    "\n",
    "# assumes that tight-span is 2-dimensional, not nec. pure\n",
    "function countPolygonsInTightSpan(subd)\n",
    "    TS = subd_o.pm_subdivision.TIGHT_SPAN; \n",
    "    D = Dict{Int64, Int64}(); #print(1)\n",
    "    MaxPolyTS = tightSpanMaximalPolytopes(subd); #print(1)\n",
    "    maxSides = maximum([length(P) for P in MaxPolyTS]); #print(maxSides)\n",
    "    for i in 2:maxSides\n",
    "        D[i] = length(findall([length(P) == i for P in MaxPolyTS]))\n",
    "    end\n",
    "    return D    \n",
    "end\n",
    "\n",
    "\n"
   ]
  },
  {
   "cell_type": "markdown",
   "metadata": {},
   "source": [
    "**Function**: ```nonLeaves(graphOscar::Graph)```\n",
    "\n",
    "*Description*: Returns a ```Vector{Int64}``` listing the vertices that are not leaves of the graph ```graphOscar```. \n",
    "\n",
    "\n",
    "*Example*: \n",
    "```\n",
    "```\n",
    "---\n",
    "**Function**: ```tightSpanNonLeaves(subd::SubdivisionOfPoints)```\n",
    "\n",
    "*Description*: Returns the maximal cells of the tight span of ```subd``` that do not contain leaf vertices.\n",
    "\n",
    "\n",
    "*Example*: \n",
    "```\n",
    "w = [1,2,0,0,0,0,1,2,2,1,1,0,0,0,0,3,0,0,0,0,1,2,0,0,0,0,3,3,2,2,2,0,0,0,0,2,0,0,0,0,3,0,0,0,0,1,2,0,0,0,0,2,2,2,1,1]\n",
    "subd = SubdivisionOfPoints(vDelta38[:,2:9], wt)\n",
    "tightSpanNonLeaves(subd) == [[1, 2, 4, 10], [2, 3, 6, 7, 8, 10], [2, 10, 13, 15], [4, 5, 8, 9, 10], [4, 10, 11, 14, 15], [8, 10, 12, 15]]\n",
    "```\n",
    "---\n",
    "**Function**: ```hasClaw(subd::SubdivisionOfPoints, Ms::Vector{Matroid})```\n",
    "\n",
    "*Description*: Determines if the dual graph of ```subd``` has a tree consisting of a node connected to 4 other nodes, such that the matroid of the center node is isomorphic to $\\mathsf{U}(12,34,56,78)$, and the matroids of the leaves are isomorphic to either $\\mathsf{V}(12,34,56,7,8)$ or $\\mathsf{W}(12,34,56,7,8)$. If this exists, the function returns a triple ```(m24, matsL1, matsL2)``` where ```m24``` is the center node, ```matsL1``` are the nodes whose matroids are isomorphic to $\\mathsf{W}$, and ```matsL2``` are the nodes whose matroids are isomorphic to $\\mathsf{V}$. If this does not exist, the function returns ```false```. \n",
    "\n",
    "\n",
    "*Example*: \n",
    "```\n",
    "w = [1,2,0,0,0,0,1,2,2,1,1,0,0,0,0,3,0,0,0,0,1,2,0,0,0,0,3,3,2,2,2,0,0,0,0,2,0,0,0,0,3,0,0,0,0,1,2,0,0,0,0,2,2,2,1,1]\n",
    "subd = SubdivisionOfPoints(vDelta38[:,2:9], w)\n",
    "Ms = subd2Matroids(subd,3,8)\n",
    "hasClaw(subd, Ms) == (10, [2, 4, 8, 15], [])\n",
    "```\n",
    "---\n",
    "**Function**: ```intersectRestTS(TSMaxPoly::Vector{Vector{Int64}}, Fin::Vector{Int64})```\n",
    "\n",
    "*Description*: Returns the vertices of ```Fin``` contained in some other maximal cell of the tight span.\n",
    "\n",
    "\n",
    "*Example*: \n",
    "```\n",
    "w = [1,2,0,0,0,0,1,2,2,1,1,0,0,0,0,3,0,0,0,0,1,2,0,0,0,0,3,3,2,2,2,0,0,0,0,2,0,0,0,0,3,0,0,0,0,1,2,0,0,0,0,2,2,2,1,1]\n",
    "subd = SubdivisionOfPoints(vDelta38[:,2:9], w)\n",
    "TSMaxPoly = tightSpanNonLeaves(subd)\n",
    "intersectRestTS(TSMaxPoly, [2,3,6,7,8,10]) == [2,8,10]\n",
    "```\n",
    "---\n",
    "**Function**: ```finsAttachedToClaw(subd::SubdivisionOfPoints, Ms::Vector{Matroid})```\n",
    "\n",
    "*Description*: returns ```true``` if each (nonleaf) fin is attached to the tree $\\mathsf{T}$ along exactly 2 edges, and ```false``` otherwise.  \n",
    "\n",
    "\n",
    "*Example*: \n",
    "```\n",
    "w = [1,2,0,0,0,0,1,2,2,1,1,0,0,0,0,3,0,0,0,0,1,2,0,0,0,0,3,3,2,2,2,0,0,0,0,2,0,0,0,0,3,0,0,0,0,1,2,0,0,0,0,2,2,2,1,1]\n",
    "subd = SubdivisionOfPoints(vDelta38[:,2:9], w)\n",
    "Ms = subd2Matroids(subd,3,8)\n",
    "finsAttachedToClaw(subd,Ms) == true\n",
    "```\n",
    "---\n",
    "**Function**: ```finIsBMaximal_G6(Ms::Vector{Matroid}, TSMaxPoly::Vector{Vector{Int64}}, Fin::Vector{Int64}, F::Ring, R::GradedPolynomialRing, x::)```\n",
    "\n",
    "*Description*: Returns the list of bases ```mu``` of $\\mathsf{Q}_{\\mathsf{F}}$ (the matroid of the fin) such that the fin is $(B,\\mu)$-maximal. \n",
    "\n",
    "\n",
    "*Example*: \n",
    "```\n",
    "w = [1,2,0,0,0,0,1,2,2,1,1,0,0,0,0,3,0,0,0,0,1,2,0,0,0,0,3,3,2,2,2,0,0,0,0,2,0,0,0,0,3,0,0,0,0,1,2,0,0,0,0,2,2,2,1,1]\n",
    "subd = SubdivisionOfPoints(vDelta38[:,2:9], w)\n",
    "Ms = subd2Matroids(subd,3,8)\n",
    "TSMaxPoly = tightSpanNonLeaves(subd)\n",
    "R,x = makePolyRing(3,8,QQ)\n",
    "finIsBMaximal_G6(Ms, TSMaxPoly, [2,3,6,7,8,10], QQ, R, x) == [[1, 2, 5], [1, 2, 6], [1, 4, 5], [1, 4, 6], [1, 5, 7], [1, 5, 8], [1, 6, 7], [1, 6, 8], [2, 3, 5], [2, 3, 6], [3, 4, 5], [3, 4, 6], [3, 5, 7], [3, 5, 8], [3, 6, 7], [3, 6, 8]]\n",
    "\n",
    "```\n",
    "---\n",
    "**Function**: ```allFinsBMaximal_G6(Ms::Vector{Matroid}, TSMaxPoly::Vector{Vector{Int64}}, F::Ring, R::GradedPolynomialRing, x::)```\n",
    "\n",
    "*Description*: Returns ```true``` if each fin is $B$-maximal, and ```false``` otherwise. \n",
    "\n",
    "\n",
    "*Example*: \n",
    "```\n",
    "w = [1,2,0,0,0,0,1,2,2,1,1,0,0,0,0,3,0,0,0,0,1,2,0,0,0,0,3,3,2,2,2,0,0,0,0,2,0,0,0,0,3,0,0,0,0,1,2,0,0,0,0,2,2,2,1,1]\n",
    "subd = SubdivisionOfPoints(vDelta38[:,2:9], w)\n",
    "Ms = subd2Matroids(subd,3,8)\n",
    "TSMaxPoly = tightSpanNonLeaves(subd)\n",
    "R,x = makePolyRing(3,8,QQ)\n",
    "finIsBMaximal_G6(Ms, TSMaxPoly, QQ, R, x) == true\n",
    "```\n"
   ]
  },
  {
   "cell_type": "code",
   "execution_count": 9,
   "metadata": {},
   "outputs": [
    {
     "data": {
      "text/plain": [
       "allFinsBMaximal_G6 (generic function with 1 method)"
      ]
     },
     "execution_count": 9,
     "metadata": {},
     "output_type": "execute_result"
    }
   ],
   "source": [
    "matroid2by4 = matroidU([1,2], [3,4], [5,6], [7,8])\n",
    "matroidLeaf1 = matroidV([1,2],[3,4],[5,6],[7],[8])\n",
    "matroidLeaf2 = matroidW([1,2],[3,4],[5,6],[7],[8])\n",
    "\n",
    "\n",
    "function nonLeaves(graphOscar)\n",
    "    notLeaves = [v for v in 1:Graphs.nv(graphOscar) if length(Graphs.all_neighbors(graphOscar, v)) > 1 ]\n",
    "    return notLeaves\n",
    "end\n",
    "\n",
    "\n",
    "\n",
    "function tightSpanNonLeaves(subd)\n",
    "    Gra = subd.pm_subdivision.POLYHEDRAL_COMPLEX.DUAL_GRAPH\n",
    "    graphOscar = Graphs.Graph{Graphs.Undirected}(Gra.ADJACENCY)\n",
    "    Ls = leavesGraph(graphOscar)\n",
    "    TS = tightSpanMaximalPolytopes(subd)\n",
    "    \n",
    "    TS_noLeaves = [F for F in TS if length(intersect(F,Ls)) == 0]\n",
    "    \n",
    "    return sort!(TS_noLeaves)\n",
    "end\n",
    "\n",
    "\n",
    "\n",
    "function hasClaw(subd, Ms)\n",
    "    mats2by4 = [i for i in 1:length(Ms) if is_isomorphic(matroid2by4, Ms[i])]\n",
    "    matsL1 = [i for i in 1:length(Ms) if is_isomorphic(matroidLeaf1, Ms[i])]\n",
    "    matsL2 = [i for i in 1:length(Ms) if is_isomorphic(matroidLeaf2, Ms[i])]\n",
    "        \n",
    "    if !(length(mats2by4) ==1 && length(matsL1) + length(matsL2) == 4)\n",
    "        return false\n",
    "    end\n",
    "    m24 = mats2by4[1]\n",
    "    \n",
    "    Gra = subd.pm_subdivision.POLYHEDRAL_COMPLEX.DUAL_GRAPH\n",
    "    graphOscar = Graphs.Graph{Graphs.Undirected}(Gra.ADJACENCY)\n",
    "    \n",
    "    nbsM24 = [i for i in Graphs.all_neighbors(graphOscar, m24) if (i in matsL1 || i in matsL2)]\n",
    "    \n",
    "    if Set(nbsM24) == union(Set(matsL1), Set(matsL2))\n",
    "        return (m24, matsL1, matsL2)\n",
    "    else\n",
    "        return false\n",
    "    end\n",
    "end\n",
    "\n",
    "function intersectRestTS(TSMaxPoly, Fin)\n",
    "    intFs = [intersect(Fin, G) for G in TSMaxPoly if G != Fin]\n",
    "    return sort!(unique!(vcat(intFs...)))\n",
    "end\n",
    "\n",
    "function finsAttachedToClaw(subd, Ms)\n",
    "    claw = hasClaw(subd, Ms)\n",
    "    if typeof(claw) == Bool\n",
    "        if !claw\n",
    "            return false\n",
    "        end\n",
    "    end  \n",
    "    \n",
    "    (m24, matsL1, matsL2) = claw\n",
    "        \n",
    "    vertsClaw = unique!(vcat([m24], matsL1, matsL2))\n",
    "    TSMaxPoly = tightSpanNonLeaves(subd)\n",
    "    \n",
    "    FsIntR = [intersectRestTS(TSMaxPoly, F) for F in TSMaxPoly]\n",
    "    \n",
    "    return all([(length(C) == 3 && issubset(C, vertsClaw) && m24 in C) for C in FsIntR])\n",
    "        \n",
    "end\n",
    "\n",
    "\n",
    "function finIsBMaximal_G6(Ms, TSMaxPoly, Fin, F, R, x)\n",
    "    connectingPath = intersectRestTS(TSMaxPoly, Fin)\n",
    "    Ms_Exterior = [Ms[i] for i in Fin if i ∉ connectingPath]\n",
    "    Ms_Fin = [Ms[i] for i in Fin]\n",
    "    Bs = commonBasis(Ms_Fin)\n",
    "    return existsBasisBMaximal_Ms(Ms_Exterior, F, R, x, Bs)\n",
    "end\n",
    "\n",
    "function allFinsBMaximal_G6(Ms, TSMaxPoly, F, R, x)\n",
    "    BMaxBases = [finIsBMaximal_G6(Ms, TSMaxPoly, Fin, F, R, x) for Fin in TSMaxPoly]\n",
    "    return all([length(Bs) > 0 for Bs in BMaxBases])\n",
    "end"
   ]
  },
  {
   "cell_type": "markdown",
   "metadata": {},
   "source": [
    "We check that, for each $\\mathsf{w}$ in $\\mathsf{G}_6$, the tight span $\\mathsf{TS}(\\mathsf{w})$ contains a star-tree $\\mathsf{T}$ that has 4 leaves, such that the matroid of the center node is isomorphic to $\\mathsf{U}(12,34,56,78)$, and the matroids of the 4 leaves are isomorphic to either $\\mathsf{V}(12,34,56;7,8)$ or $\\mathsf{W}(12;34,56;7,8)$. Furthermore, we verify that there are exactly 6 fins of $\\Sigma_L \\subset \\mathsf{TS}(\\mathsf{w})$, with one connected along each pair of edges of $\\mathsf{T}$. Finally we check that each of these fins is $B$-maximal, and therefore the limit $\\operatorname{Gr}(\\mathsf{w})$ is smooth and irreducible."
   ]
  },
  {
   "cell_type": "code",
   "execution_count": 10,
   "metadata": {},
   "outputs": [],
   "source": [
    "passes_test = []\n",
    "fails_test = []\n",
    "\n",
    "R,x = makePolyRing(3,8,QQ)\n",
    "\n",
    "for w in G6\n",
    "    subd = SubdivisionOfPoints(vDelta38[:,2:9], -w); \n",
    "    TS = tightSpanNonLeaves(subd)\n",
    "    Ms = subd2Matroids(subd, 3, 8);\n",
    "    R, x = makePolyRing(3, 8, QQ);\n",
    "    \n",
    "    if !finsAttachedToClaw(subd, Ms)\n",
    "        push!(fails_test, w)\n",
    "    elseif allFinsBMaximal_G6(Ms, TS, QQ, R, x)\n",
    "        push!(passes_test, w)\n",
    "    else\n",
    "        push!(fails_test, w)\n",
    "    end\n",
    "end"
   ]
  },
  {
   "cell_type": "code",
   "execution_count": 11,
   "metadata": {},
   "outputs": [
    {
     "data": {
      "text/plain": [
       "true"
      ]
     },
     "execution_count": 11,
     "metadata": {},
     "output_type": "execute_result"
    }
   ],
   "source": [
    "length(fails_test) == 0"
   ]
  },
  {
   "cell_type": "markdown",
   "metadata": {},
   "source": [
    "## Dimension of $\\operatorname{Gr}(\\mathsf{w})$\n",
    "\n",
    "Next we check that the dimensions $\\operatorname{Gr}(\\mathsf{w})$ are 15 for each $\\mathsf{w}$ in $\\mathsf{G}_6$. We do this by applying Proposition 6.16, which is implemented in the function ```dimLimitG6``` below. "
   ]
  },
  {
   "cell_type": "code",
   "execution_count": 66,
   "metadata": {},
   "outputs": [
    {
     "data": {
      "text/plain": [
       "dimLimitG6 (generic function with 5 methods)"
      ]
     },
     "execution_count": 66,
     "metadata": {},
     "output_type": "execute_result"
    }
   ],
   "source": [
    "function minBDim(M)\n",
    "    DM = basis2DimB(M)\n",
    "    return min(values(DM)...)\n",
    "end\n",
    "\n",
    "function matroidOfEdge(Ms,e,n)\n",
    "    B1 = bases(Ms[e[1]])\n",
    "    B2 = bases(Ms[e[2]])\n",
    "    return matroid_from_bases(intersect(B1,B2), n)\n",
    "end\n",
    "\n",
    "\n",
    "function dimLimitG6(w,F,d,n,R,x)\n",
    "    subd = SubdivisionOfPoints(vDelta38[:,2:n+1], -w); \n",
    "    Ms = subd2Matroids(subd,d,n)\n",
    "    claw = hasClaw(subd, Ms)\n",
    "    dimClaw = 11 + length(claw[2])\n",
    "    \n",
    "    (m24, matsL1, matsL2) = claw\n",
    "    \n",
    "    vertsClaw = unique!(vcat([m24], matsL1, matsL2))\n",
    "    \n",
    "    Gr = subd.pm_subdivision.POLYHEDRAL_COMPLEX.DUAL_GRAPH\n",
    "    oG = Graphs.Graph{Graphs.Undirected}(Gr.ADJACENCY)\n",
    "    LeavesVerts = leavesGraph(oG)\n",
    "    TS = tightSpanMaximalPolytopes(subd)\n",
    "    \n",
    "    Fins = [F for F in TS if length(intersect(F,LeavesVerts)) == 0]\n",
    "    LeavesEdges = [L for L in TS if length(intersect(L,LeavesVerts)) != 0]\n",
    "    \n",
    "    leafVMatroids = [Ms[i] for i in LeavesVerts]\n",
    "    leafEMatroids = [matroidOfEdge(Ms,L,n) for L in LeavesEdges]\n",
    "    \n",
    "    FinsExposedV = union!([[i for i in Fin if i ∉ vertsClaw] for Fin in Fins]...)\n",
    "    FinsExposedE = union!([[sort!([i,j]) for j in Graphs.all_neighbors(oG, i) if j ∉ LeavesVerts] for i in FinsExposedV]...)\n",
    "        \n",
    "    \n",
    "    FinsExposedVMats = [Ms[i] for i in FinsExposedV]\n",
    "    FinsExposedEMats = [matroidOfEdge(Ms,e,n) for e in FinsExposedE]\n",
    "    FinsBases = [ intersect([bases(Ms[i]) for i in Fin]...)  for Fin in Fins]\n",
    "    FinsMats = [matroid_from_bases(Bs, n) for Bs in FinsBases]\n",
    "    \n",
    "    dimsLeavesV = Vector{Int64}([dimTSC_Optimized(M, F, R, x) for M in leafVMatroids ]); \n",
    "    dimsLeavesE = Vector{Int64}([dimTSC_Optimized(M, F, R, x) for M in leafEMatroids ]); \n",
    "    \n",
    "    dimsFinsV = Vector{Int64}([dimTSC_Optimized(M, F, R, x) for M in FinsExposedVMats ]); \n",
    "    dimsFinsE = Vector{Int64}([dimTSC_Optimized(M, F, R, x) for M in FinsExposedEMats ]); \n",
    "    dimsFinsF = Vector{Int64}([dimTSC_Optimized(M, F, R, x) for M in FinsMats ]);\n",
    "    \n",
    "    \n",
    "    return sum(dimsLeavesV) - sum(dimsLeavesE) + sum(dimsFinsV) - sum(dimsFinsE) + sum(dimsFinsF) + dimClaw\n",
    "    \n",
    "end"
   ]
  },
  {
   "cell_type": "code",
   "execution_count": 57,
   "metadata": {},
   "outputs": [],
   "source": [
    "subd = SubdivisionOfPoints(vDelta38[:,2:9], -G6[5]); \n",
    "#Gr = subd.pm_subdivision.POLYHEDRAL_COMPLEX.DUAL_GRAPH\n",
    "#pm.visual(Gr)"
   ]
  },
  {
   "cell_type": "code",
   "execution_count": 68,
   "metadata": {},
   "outputs": [],
   "source": [
    "R, x =  makePolyRing(3,8,QQ)\n",
    "dims_G6 = []\n",
    "\n",
    "dimFile = joinpath(currentDir, \"G6Data/dims_G6.dat\")\n",
    "io1 = open(dimFile, \"w\") \n",
    "close(io1)\n",
    "\n",
    "for i in 1:length(G6)    # change range for testing\n",
    "    w = G6[i]\n",
    "    d = dimLimitG6(w, QQ, 3, 8, R, x)\n",
    "    push!(dims_G6, d)\n",
    "    \n",
    "    open(dimFile, \"a\") do io\n",
    "        write(io, string(\"dim w\", i, \" = \" , d, \"\\n\"))\n",
    "        end\n",
    "    \n",
    "end\n"
   ]
  },
  {
   "cell_type": "code",
   "execution_count": 69,
   "metadata": {},
   "outputs": [
    {
     "data": {
      "text/plain": [
       "true"
      ]
     },
     "execution_count": 69,
     "metadata": {},
     "output_type": "execute_result"
    }
   ],
   "source": [
    "all([d == 15 for d in dims_G6])"
   ]
  }
 ],
 "metadata": {
  "kernelspec": {
   "display_name": "Julia 1.7.1",
   "language": "julia",
   "name": "julia-1.7"
  },
  "language_info": {
   "file_extension": ".jl",
   "mimetype": "application/julia",
   "name": "julia",
   "version": "1.7.1"
  }
 },
 "nbformat": 4,
 "nbformat_minor": 4
}
