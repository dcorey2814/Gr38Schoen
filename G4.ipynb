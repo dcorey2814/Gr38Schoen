{
 "cells": [
  {
   "cell_type": "markdown",
   "metadata": {},
   "source": [
    "# Group $\\mathsf{G}_4$\n",
    "\n",
    "Given a combinatorial type $\\mathsf{w}$, let $\\Sigma_{\\mathsf{Br}}$ be the subcomplex of $\\mathsf{TS}(\\mathsf{w})$ obtained by removing each branch. The combinatorial types $\\mathsf{w}$ belonging to $\\mathsf{G}_4$ are those not in $\\mathsf{G}_i$ ($i\\leq 3$), and such that $\\Sigma_{\\mathsf{Br}}$ is vertex-connecting. "
   ]
  },
  {
   "cell_type": "code",
   "execution_count": null,
   "metadata": {},
   "outputs": [],
   "source": [
    "using Oscar\n",
    "using Combinatorics\n",
    "pm = Polymake"
   ]
  },
  {
   "cell_type": "code",
   "execution_count": null,
   "metadata": {},
   "outputs": [],
   "source": [
    "currentDir = pwd()\n",
    "include(joinpath(currentDir, \"src/inputData38.jl\"));\n",
    "include(joinpath(currentDir, \"src/fileHandling.jl\"));\n",
    "include(joinpath(currentDir, \"src/tscCoordRing.jl\"));\n",
    "include(joinpath(currentDir, \"src/matroidalSubd.jl\"));\n",
    "include(joinpath(currentDir, \"src/Bmaximal.jl\"));\n",
    "include(joinpath(currentDir, \"src/simplifyIdeal.jl\"));"
   ]
  },
  {
   "cell_type": "markdown",
   "metadata": {},
   "source": [
    "The list ```G4``` contains all combinatorial types in $\\mathsf{G}_4$. "
   ]
  },
  {
   "cell_type": "code",
   "execution_count": null,
   "metadata": {},
   "outputs": [],
   "source": [
    "G4Path = joinpath(currentDir,\"groupsFinal/G4.dat\")\n",
    "G4 = file2SetVectors(G4Path);"
   ]
  },
  {
   "cell_type": "markdown",
   "metadata": {},
   "source": [
    "---\n",
    "**Function**: ```branchDecomposition(graphOscar::Graph)```\n",
    "\n",
    "*Description*: \n",
    "\n",
    "*Example*: \n",
    "\n",
    "---\n",
    "**Function**: ```removeBranchCVP(w::Vector{Int64})```\n",
    "\n",
    "*Description*: \n",
    "\n",
    "*Example*: \n",
    "\n"
   ]
  },
  {
   "cell_type": "code",
   "execution_count": null,
   "metadata": {},
   "outputs": [],
   "source": [
    "function branchDecomposition(graphOscar)\n",
    "    \n",
    "    g = Graphs.ne(graphOscar) - Graphs.nv(graphOscar) + 1\n",
    "    \n",
    "    if g==0\n",
    "        return \"tree\"\n",
    "    end\n",
    "    \n",
    "    BrVerts = leavesGraph(graphOscar)\n",
    "    BrEdges = [(i, first(Graphs.all_neighbors(graphOscar, i))) for i in BrVerts]\n",
    "    candidates = unique!([e[2] for e in BrEdges])\n",
    "        \n",
    "    stop = false\n",
    "    i=0\n",
    "    \n",
    "    while !stop\n",
    "        \n",
    "        D = Dict([i => [j for j in Graphs.all_neighbors(graphOscar,i) if j ∉ BrVerts] for i in candidates])     \n",
    "        newCandidates = [i for i in keys(D) if length(D[i]) == 1]\n",
    "        \n",
    "        if length(newCandidates) == 0\n",
    "            stop = true\n",
    "        else\n",
    "            unique!(append!(BrVerts, newCandidates))\n",
    "            unique!(append!(BrEdges, [(i, first(D[i])) for i in newCandidates]))\n",
    "            precandidates = unique!([e[2] for e in BrEdges])   \n",
    "            candidates = [i for i in precandidates if i ∉ BrVerts]\n",
    "        end\n",
    "\n",
    "        i+=1\n",
    "    end\n",
    "    \n",
    "    \n",
    "    Center = [i for i in 1:Graphs.nv(graphOscar) if i ∉ BrVerts ]\n",
    "            \n",
    "       \n",
    "    return (BrVerts, BrEdges, Center)\n",
    "    \n",
    "end\n",
    "\n",
    "function removeBranchCVP(w)\n",
    "    subd = SubdivisionOfPoints(vDelta38[:,2:9], -w)\n",
    "    Gr = subd.pm_subdivision.POLYHEDRAL_COMPLEX.DUAL_GRAPH\n",
    "    GrO = Graphs.Graph{Graphs.Undirected}(Gr.ADJACENCY)\n",
    "    Ms = subd2Matroids(subd,3,8)\n",
    "    \n",
    "    g = Graphs.ne(GrO) - Graphs.nv(GrO) + 1\n",
    "    \n",
    "    if g == 0\n",
    "        return \"dual graph is tree\"\n",
    "    end\n",
    "    \n",
    "    BrV, BrE, C = branchDecomposition(GrO)\n",
    "    \n",
    "    commonB = commonBasis([Ms[i] for i in C])\n",
    "    \n",
    "    return length(commonB) > 0    \n",
    "    \n",
    "end"
   ]
  },
  {
   "cell_type": "markdown",
   "metadata": {},
   "source": [
    "We verify that all branches are paths. "
   ]
  },
  {
   "cell_type": "code",
   "execution_count": null,
   "metadata": {},
   "outputs": [],
   "source": [
    "branches_are_paths = []\n",
    "branches_are_not_all_paths = []\n",
    "\n",
    "for w in G4\n",
    "    subd = SubdivisionOfPoints(vDelta38[:,2:9], -w)\n",
    "    Gr = subd.pm_subdivision.POLYHEDRAL_COMPLEX.DUAL_GRAPH\n",
    "    GrO = Graphs.Graph{Graphs.Undirected}(Gr.ADJACENCY)\n",
    "    BrV, BrE, C = branchDecomposition(GrO)\n",
    "    countBrNeighbors = [Graphs.all_neighbors(GrO,v) for v in BrV]\n",
    "    if all([length(n)<3 for n in countBrNeighbors])\n",
    "        push!(branches_are_paths, w)\n",
    "    else\n",
    "        push!(branches_are_not_all_paths, w)\n",
    "    end\n",
    "end"
   ]
  },
  {
   "cell_type": "code",
   "execution_count": null,
   "metadata": {},
   "outputs": [],
   "source": [
    "length(branches_are_not_all_paths) == 0"
   ]
  },
  {
   "cell_type": "markdown",
   "metadata": {},
   "source": [
    "For a given combinatorial type $\\mathsf{w}$, we determine $\\Sigma_L$, and compute its coordinate ring using Proposition 6.3, implemented by the function ```limitTSC```. Then we determine those whose ideal $I_{\\Sigma_L}$ satisfies the hypotheses of Lemma 6.11. "
   ]
  },
  {
   "cell_type": "code",
   "execution_count": null,
   "metadata": {},
   "outputs": [],
   "source": [
    "hasUpperTriangularG4 = []\n",
    "doesntHaveUpperTriangularG4 = []\n",
    "\n",
    "R, x = makePolyRing(3,8, QQ)\n",
    "\n",
    "UTFile = joinpath(currentDir,\"G4Data/hasUpperTriangularG4.dat\")\n",
    "NUTFile = joinpath(currentDir,\"G4Data/doesnthaveUpperTriangularG4.dat\")\n",
    "\n",
    "for w in G4\n",
    "    subd = SubdivisionOfPoints(vDelta38[:,2:9], -w)\n",
    "    Gr = subd.pm_subdivision.POLYHEDRAL_COMPLEX.DUAL_GRAPH\n",
    "    GrO = Graphs.Graph{Graphs.Undirected}(Gr.ADJACENCY)\n",
    "    \n",
    "    (BrVerts, BrEdges, Center) = branchDecomposition(GrO)\n",
    "    \n",
    "    Ms = subd2Matroids(subd,3,8)\n",
    "    MsCenter = [Ms[i] for i in Center]\n",
    "    \n",
    "    optBs = optimalBasesForLimit(MsCenter)\n",
    "    Lim = limitTSC(MsCenter, QQ, first(optBs), R, x)\n",
    "    \n",
    "    Rt = base_ring(Lim)\n",
    "    xt = gens(base_ring(Lim))\n",
    "    gLim = minimal_generating_set(Lim)\n",
    "    \n",
    "    if systemHasUniUpperTriangle(gLim, Rt, xt)\n",
    "        push!(hasUpperTriangularG4, w)\n",
    "        open(UTFile, \"a\") do io\n",
    "            write(io, vec2String(w), \"\\n\")\n",
    "        end;\n",
    "\n",
    "        \n",
    "    else\n",
    "        push!(doesntHaveUpperTriangularG4, w)\n",
    "        open(NUTFile, \"a\") do io\n",
    "            write(io, vec2String(w), \"\\n\")\n",
    "        end;\n",
    "    end\n",
    "    \n",
    "end"
   ]
  },
  {
   "cell_type": "markdown",
   "metadata": {},
   "source": [
    "We appply Algorithm 6.12 to the combinatorial types in ```doesntHaveUpperTriangularG4```. If the output ideal is $\\langle 0 \\rangle$, then the function ```canReduceIdeal``` returns ```true```. In this case, the ring $R_{\\Sigma_{L}}$ is a regular integral domain. "
   ]
  },
  {
   "cell_type": "code",
   "execution_count": null,
   "metadata": {},
   "outputs": [],
   "source": [
    "canFullySimplifyG4 = []\n",
    "cannotFullySimplifyG4 = []\n",
    "\n",
    "canFile = joinpath(currentDir,\"G4Data/canFullySimplifyG4.dat\")\n",
    "cannotFile = joinpath(currentDir,\"G4Data/cannotFullySimplifyG4.dat\")\n",
    "\n",
    "io1 = open(canFile, \"w\") \n",
    "io2 = open(cannotFile, \"w\")\n",
    "close(io1)\n",
    "close(io2)\n",
    "\n",
    "R, x = makePolyRing(3,8, QQ)\n",
    "\n",
    "for w in doesntHaveUpperTriangularG4\n",
    "    subd = SubdivisionOfPoints(vDelta38[:,2:9], -w)\n",
    "    \n",
    "    Gr = subd.pm_subdivision.POLYHEDRAL_COMPLEX.DUAL_GRAPH\n",
    "    GrO = Graphs.Graph{Graphs.Undirected}(Gr.ADJACENCY)    \n",
    "    (BrVerts, BrEdges, Center) = branchDecomposition(GrO)\n",
    "   \n",
    "    Ms = subd2Matroids(subd,3,8)\n",
    "    MsCenter = [Ms[i] for i in Center]\n",
    "    \n",
    "    optBs = optimalBasesForLimit(MsCenter)\n",
    "    Lim = limitTSC(MsCenter, QQ, first(optBs), R, x)\n",
    "        \n",
    "    Rt = base_ring(Lim)\n",
    "    xt = gens(base_ring(Lim))\n",
    "    gLim = minimal_generating_set(Lim)\n",
    "    \n",
    "    \n",
    "    Sinv = localizingSemiGroup(MsCenter, QQ, first(optBs), R, x)\n",
    "    SR = Localization(Sinv)[1]\n",
    "    \n",
    "    if canReduceIdeal(gLim, R, x, Sinv, SR)\n",
    "        push!(canFullySimplifyG4, w)\n",
    "        \n",
    "        open(canFile, \"a\") do io\n",
    "           write(io, vec2String(w), \"\\n\")\n",
    "        end;\n",
    "    else\n",
    "        push!(cannotFullySimplifyG4, w)\n",
    "        \n",
    "        open(cannotFile, \"a\") do io\n",
    "           write(io, vec2String(w), \"\\n\")\n",
    "        end;\n",
    "    end\n",
    "end"
   ]
  },
  {
   "cell_type": "markdown",
   "metadata": {},
   "source": [
    "As we see, ```canReduceIdeal``` returns true for all of the combinatorial types in ```doesntHaveUpperTriangularG4```."
   ]
  },
  {
   "cell_type": "code",
   "execution_count": null,
   "metadata": {},
   "outputs": [],
   "source": [
    "#cannotFullySimplifyG4 = file2SetVectors(joinpath(currentDir, \"G4Data/cannotFullySimplifyG4.dat\"));\n",
    "print(length(cannotFullySimplifyG4) == 0)"
   ]
  },
  {
   "cell_type": "markdown",
   "metadata": {},
   "source": [
    "## Dimension of $\\operatorname{Gr}(\\mathsf{w})$\n",
    "\n",
    "Next we check that the dimensions $\\operatorname{Gr}(\\mathsf{w})$ are 15 for each $\\mathsf{w}$ in $\\mathsf{G}_4$. We do this by applying Formula ??, which is implemented in the function ```dimensionBranchCVP``` below. \n"
   ]
  },
  {
   "cell_type": "code",
   "execution_count": null,
   "metadata": {},
   "outputs": [],
   "source": [
    "function matroidOfEdge(Ms,e,n)\n",
    "    B1 = bases(Ms[e[1]])\n",
    "    B2 = bases(Ms[e[2]])\n",
    "    return matroid_from_bases(intersect(B1,B2), n)\n",
    "end\n",
    "\n",
    "function dimensionBranchCVP(w, F, d, n, R, x)\n",
    "    subd = SubdivisionOfPoints(vDelta38[:,2:9], -w)\n",
    "    Gr = subd.pm_subdivision.POLYHEDRAL_COMPLEX.DUAL_GRAPH\n",
    "    GrO = Graphs.Graph{Graphs.Undirected}(Gr.ADJACENCY)\n",
    "    Ms = subd2Matroids(subd,d,n)\n",
    "    \n",
    "    g = Graphs.ne(GrO) - Graphs.nv(GrO) + 1\n",
    "    \n",
    "    if g == 0\n",
    "        return \"dual graph is tree\"\n",
    "    end\n",
    "    \n",
    "    (BrVerts, BrEdges, Center) = branchDecomposition(GrO)\n",
    "        \n",
    "    dimsBrV = [dimTSC_Optimized(Ms[i], F, R, x) for i in BrVerts] \n",
    "    dimsBrE = [dimTSC_Optimized(matroidOfEdge(Ms,e,n), F, R, x) for e in BrEdges]\n",
    "    \n",
    "    dimCenter = dimLimitTSC([Ms[i] for i in Center], F, R, x)\n",
    "    \n",
    "    return sum(dimsBrV) - sum(dimsBrE) + dimCenter\n",
    "    \n",
    "end;"
   ]
  },
  {
   "cell_type": "code",
   "execution_count": null,
   "metadata": {},
   "outputs": [],
   "source": [
    "R, x =  makePolyRing(3,8,QQ)\n",
    "dims_G4 = []\n",
    "\n",
    "dimFile = joinpath(currentDir, \"G4Data/dims_G4.dat\")\n",
    "io1 = open(dimFile, \"w\") \n",
    "close(io1)\n",
    "\n",
    "\n",
    "\n",
    "for i in 1:length(G4)\n",
    "    w = G4[i]\n",
    "    d = dimensionBranchCVP(w, QQ, 3, 8, R, x)\n",
    "    push!(dims_G4, d)\n",
    "    \n",
    "    open(dimFile, \"a\") do io\n",
    "        write(io, string(\"dim w\", i, \" = \" , d, \"\\n\"))\n",
    "        end\n",
    "    \n",
    "end"
   ]
  },
  {
   "cell_type": "code",
   "execution_count": null,
   "metadata": {},
   "outputs": [],
   "source": [
    "all([d == 15 for d in dims_G4])"
   ]
  }
 ],
 "metadata": {
  "kernelspec": {
   "display_name": "Julia 1.7.1",
   "language": "julia",
   "name": "julia-1.7"
  },
  "language_info": {
   "file_extension": ".jl",
   "mimetype": "application/julia",
   "name": "julia",
   "version": "1.7.3"
  }
 },
 "nbformat": 4,
 "nbformat_minor": 4
}
