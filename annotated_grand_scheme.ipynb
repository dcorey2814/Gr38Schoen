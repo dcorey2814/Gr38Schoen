{
 "cells": [
  {
   "cell_type": "markdown",
   "metadata": {},
   "source": [
    "In the following computations we classify matroidal subdivisions of $\\Delta(3,8)$ using properties of their dual graphs. We study these subdivisions up to symmetry. This symmetry is induced by the action of the symmetric group $\\mathfrak{S}_8$ on height functions $w\\in\\text{TGr}_0(3,8)\\subset \\mathbb{R}^{{[8]\\choose 3}}$, where we think of $\\mathfrak{S}_8$ as a subgroup of $\\mathfrak{S}_{56}$.\n",
    "\n",
    "That is, for $\\sigma\\in\\mathfrak{S}_{8}$ and $\\{i,j,k\\}\\in{[8]\\choose 3}$, we take $\\sigma\\circ\\{i,j,k\\}=\\{\\sigma(i),\\sigma(j),\\sigma(k)\\}$. In this way, we induce a permutation on the entries of $w$.\n",
    "\n",
    "For each cone of $\\text{TGr}_{0}(3,8)$, we have a representative from the interior. In other words, we have a representative for each symmetry class of matroidal subdivision."
   ]
  },
  {
   "cell_type": "code",
   "execution_count": null,
   "metadata": {},
   "outputs": [],
   "source": [
    "using Oscar\n",
    "using Combinatorics\n",
    "pm = Polymake"
   ]
  },
  {
   "cell_type": "code",
   "execution_count": 3,
   "metadata": {},
   "outputs": [],
   "source": [
    "include(\"inputData38.jl\");\n",
    "include(\"fileHandling.jl\")\n",
    "include(\"tscCoordRing.jl\");\n",
    "include(\"matroidalSubd.jl\");\n",
    "include(\"Bmaximal.jl\");\n",
    "include(\"simplifyIdeal.jl\");\n"
   ]
  },
  {
   "cell_type": "code",
   "execution_count": 4,
   "metadata": {},
   "outputs": [
    {
     "data": {
      "text/plain": [
       "file2SetVectors (generic function with 1 method)"
      ]
     },
     "execution_count": 4,
     "metadata": {},
     "output_type": "execute_result"
    }
   ],
   "source": [
    "function string2Int64Vector(s)\n",
    "    return map(i -> parse(Int64, i), split(s))\n",
    "end\n",
    "\n",
    "function file2SetVectors(fileName)\n",
    "    return map(s -> string2Int64Vector(s), readlines(fileName))\n",
    "end"
   ]
  },
  {
   "cell_type": "code",
   "execution_count": 5,
   "metadata": {},
   "outputs": [
    {
     "data": {
      "text/plain": [
       "12-element Vector{Vector{Int64}}:\n",
       " [8, 8, -6, -6, 8, 8, 8, -6, -6, 8  …  -6, 8, 8, 8, 8, -13, -6, -6, 8, 8]\n",
       " [8, 1, 8, 1, 1, 1, 8, -90, 8, 8  …  1, 1, 1, -6, -6, -6, 1, 1, 1, -6]\n",
       " [-3, -3, -3, -24, -24, -3, -3, -3, 11, 11  …  11, 11, -3, -10, 11, 11, -10, -24, -24, -10]\n",
       " [29, 1, -13, -13, 29, -13, 29, 15, 15, -48  …  -13, 29, -13, 29, -13, 29, 15, -27, 15, 15]\n",
       " [23, -33, -33, -33, 23, 23, -61, 44, 44, -5  …  -12, 44, 44, 44, 44, -5, -61, -61, -5, -5]\n",
       " [-1, -1, -1, -1, -8, -8, 6, 6, 6, -1  …  -22, 6, 6, 6, 6, -1, 6, 6, -1, -1]\n",
       " [13, 13, -36, -36, 13, -57, -22, 34, 34, -22  …  -50, -1, 34, -1, 34, -22, -50, -15, 34, 34]\n",
       " [24, -32, 24, -67, 38, 38, 24, -25, -11, -11  …  24, 24, 24, 38, 38, -67, -11, -11, -11, 3]\n",
       " [4, -3, -3, -3, 4, -3, 4, 4, 4, -10  …  -3, 4, -3, 4, -3, 4, 4, -3, 4, 4]\n",
       " [25, -45, -38, -38, 25, 11, 25, 32, 32, -10  …  -10, 53, 39, 53, 39, -3, -45, -59, 4, 4]\n",
       " [34, -43, -43, -43, 20, 20, 34, 34, 34, -8  …  -15, 48, 48, 48, 48, 6, -57, -57, 6, 6]\n",
       " [43, 15, -6, -20, 43, 15, -41, 43, 29, -13  …  -20, 43, 15, 29, 1, -41, 8, -20, 43, 29]"
      ]
     },
     "execution_count": 5,
     "metadata": {},
     "output_type": "execute_result"
    }
   ],
   "source": [
    "codim0 = file2SetVectors(\"cones/codim_0.dat\")\n",
    "codim1 = file2SetVectors(\"cones/codim_1-V2.dat\")\n",
    "codim2 = file2SetVectors(\"cones/codim_2.dat\")\n",
    "codim3 = file2SetVectors(\"cones/codim_3.dat\")\n",
    "codim4 = file2SetVectors(\"cones/codim_4.dat\")\n",
    "codim5 = file2SetVectors(\"cones/codim_5.dat\")\n",
    "codim6 = file2SetVectors(\"cones/codim_6.dat\")\n",
    "codim7 = file2SetVectors(\"cones/codim_7.dat\")"
   ]
  },
  {
   "cell_type": "markdown",
   "metadata": {},
   "source": [
    "Let $w\\in\\text{TGr}_{0}(3,8)$. Then $w$ induces a matroidal subdivision of $\\Delta(3,8)$, denoted $\\mathcal{Q}(w)$. The tightspan, denoted $\\text{TS}(w)$ is a polytopal complex whose faces are dual to $\\mathcal{Q}(w)$. Each face of codimension $k$ face of $TS(w)$ corresponds to a $k$ dimensonal face of $\\mathcal{Q}(w)$.\n",
    "\n",
    "Let $\\Gamma(w)$ be the graph dual to the subdivision induced by $w$. That is, $\\Gamma(w)$ has a vertex $v$ for each maximal cell $C_v$ of $\\mathcal{Q}(w)$, and an edge between $v$ and $v^{\\prime}$ if $C_v$ and $C_{^{\\prime}}$ intersect in codimension one. Observe that $\\Gamma(w)$ is the 1-skeleton of $\\text{TS}(w)$.\n",
    "\n",
    "\n",
    "**Variable notation**\n",
    "\n",
    "```cone``` = cone of $\\text{TGr}_0(3,8)$ corresponding to representative $w$ from interior.\n",
    "\n",
    "```subd``` = $\\mathcal{Q}(w)$.\n",
    "\n",
    "```Gra``` = $\\Gamma(w)$.\n",
    "\n",
    "```Tmc``` = $\\text{TS}(w)$.\n",
    "\n",
    "```Mp``` = maximal polytopes of $\\text{TS}(w)$ as sets of vertices of $\\text{TS}(w)$. Note that these are saved as a matrix such that the $ith$ row corresponds to $ith$ polytope. \n",
    "\n",
    "```Mc``` = maximal cells of $\\mathcal{Q}(w)$ as sets of vertices of $\\Delta(3,8)$. Saved as a matrix, as for ```Mp```"
   ]
  },
  {
   "cell_type": "markdown",
   "metadata": {},
   "source": [
    "**Function**:```common_vertex``` \n",
    "\n",
    "*Input*: ```Mc```\n",
    "\n",
    "*Output*: ```Set``` of indices of vertices of $\\Delta(3,8)$.\n",
    "\n",
    "*Description*: intersects vertex sets of maximal cells of $\\mathcal{Q}(w)$, with the objective of finding a common basis of the matroids corresponding to these cells."
   ]
  },
  {
   "cell_type": "code",
   "execution_count": 7,
   "metadata": {},
   "outputs": [
    {
     "ename": "LoadError",
     "evalue": "UndefVarError: Mc not defined",
     "output_type": "error",
     "traceback": [
      "UndefVarError: Mc not defined",
      "",
      "Stacktrace:",
      " [1] top-level scope",
      "   @ In[7]:10",
      " [2] eval",
      "   @ ./boot.jl:373 [inlined]",
      " [3] include_string(mapexpr::typeof(REPL.softscope), mod::Module, code::String, filename::String)",
      "   @ Base ./loading.jl:1196"
     ]
    }
   ],
   "source": [
    "#checks for common basis\n",
    "function common_vertex(Mc)\n",
    "Int = pm.row(Mc,1)\n",
    "for t in 1:size(Mc,1)\n",
    "    Mt = pm.row(Mc,t)\n",
    "    Int = intersect(Int,Mt)\n",
    "end\n",
    "    return Int\n",
    "end"
   ]
  },
  {
   "cell_type": "markdown",
   "metadata": {},
   "source": [
    "**Function**: ```not_cell```\n",
    "\n",
    "*Input*: ```Mp```, integer ```i``` corresponding to the $i$th maximal polytope\n",
    "\n",
    "*Output* ```Set{Int}``` corresponding to the vertices of $\\text{TS}(w)$ not contained in this cell.\n",
    "\n",
    "*Description*: To be used in deleafing, definning procedures later."
   ]
  },
  {
   "cell_type": "code",
   "execution_count": null,
   "metadata": {},
   "outputs": [],
   "source": [
    "function not_cell(Mp,i)\n",
    "    C = Set{Int64}()\n",
    "    for j in 1:size(Mp,1)#loop through row indices of maximal polytopes\n",
    "        if j != i\n",
    "            Mj = pm.row(Mp,j)\n",
    "            C = union(C,Mj)\n",
    "        end\n",
    "    \n",
    "    end\n",
    "    return C\n",
    "end"
   ]
  },
  {
   "cell_type": "markdown",
   "metadata": {},
   "source": [
    "**Function**: is_tree\n",
    "\n",
    "*Input*: ```Gra```, ```Tmc```\n",
    "\n",
    "*Output*: ```Integer```=$F=E-V+1$\n",
    "\n",
    "*Description*: Computes the number of faces in the tight span of a subdivision. That is, applies Euelers formula. Will be used to determine if $\\Gamma(w)$ is a tree"
   ]
  },
  {
   "cell_type": "code",
   "execution_count": null,
   "metadata": {},
   "outputs": [],
   "source": [
    "#checks if graph is tree\n",
    "function is_tree(Gra,Tmc)\n",
    "    gdual = Graphs.Graph{Graphs.Undirected}(Gra.ADJACENCY)\n",
    "    edges = collect(Graphs.edges(gdual))\n",
    "    TmcVerts = Tmc.VERTICES\n",
    "    Vsize = size(TmcVerts,1)\n",
    "    Esize = length(edges)\n",
    "    return Esize-Vsize+1\n",
    "end"
   ]
  },
  {
   "cell_type": "markdown",
   "metadata": {},
   "source": [
    "A *leaf-branch pair* is a leaf vertex with its adjacent edge. The subgraph $\\Sigma_{L}\\subset\\Gamma(w)$ is obtained by removing all leaf-branch pairs.\n",
    "\n",
    "**Function** ```deleaf```\n",
    "\n",
    "*Input*: ```Mp``` \n",
    "\n",
    "*Output*: ```Set``` that is a subset of vertices of $\\Delta(3,8)$.\n",
    "\n",
    "*Description*: Checks if maximal cells of $\\mathcal{Q}(w)$ corresponding to vertices of $\\Sigma_{L}$  share common vertex. Returns vertices in intersection with objective of seeing if matroids have common bases. Note that in application, ```Mc``` is computed in earlier steps"
   ]
  },
  {
   "cell_type": "code",
   "execution_count": 10,
   "metadata": {},
   "outputs": [
    {
     "data": {
      "text/plain": [
       "deleaf (generic function with 1 method)"
      ]
     },
     "execution_count": 10,
     "metadata": {},
     "output_type": "execute_result"
    }
   ],
   "source": [
    "function deleaf(Mp)\n",
    "\n",
    "#eliminate leaves\n",
    "not_leaves = Set{Int64}()\n",
    "for t in 1:size(Mp,1)\n",
    "    Mt = pm.row(Mp,t)\n",
    "    if length(Mt) > 2\n",
    "        push!(not_leaves, t)\n",
    "    else\n",
    "    int = intersect(Mt,not_cell(Mp,t))\n",
    "        if length(int)>1\n",
    "            push!(not_leaves,t)\n",
    "        end\n",
    "    end\n",
    "end\n",
    "#collect vertices in deleafed component\n",
    "    max_cells = Set{Int64}()\n",
    "        for i in not_leaves\n",
    "            Mi = pm.row(Mp,i)\n",
    "            max_cells = union(max_cells, Mi)\n",
    "        end\n",
    "        max_cells_vec = collect(max_cells)\n",
    "    \n",
    "#find common bases\n",
    "        leaf_Int = pm.row(Mc,max_cells_vec[1])\n",
    "        for t in max_cells_vec\n",
    "            Mt = pm.row(Mc,t)\n",
    "            leaf_Int = intersect(leaf_Int,Mt)\n",
    "        end\n",
    "return leaf_Int#newline testing may 21\n",
    "end"
   ]
  },
  {
   "cell_type": "markdown",
   "metadata": {},
   "source": [
    "Note $\\Sigma_{L}$0 may still have leaves. Let $\\Sigma_{Br}$ be the subgraph obtained by interatively removing leaf branch pairs until the process terminates. A *branch* is a maximal connected subgraph of $\\Gamma(w)\\setminus\\Sigma_{\\text{Br}}$.\n",
    "\n",
    "**Function** ```branch_decomposition```\n",
    "\n",
    "*Input*: ```GaphOscar``` (Oscar graph)\n",
    "\n",
    "*Output*: leaves, edges in branches, and vertices contained in branches that are not leaves\n",
    "\n",
    "**Function** ```removeBranchCVP```\n",
    "\n",
    "*Input*: ```w```= height function\n",
    "\n",
    "*Output*: ```True``` if maximal cells of $\\mathcal{Q}(w)$ corresponding to vertices of $\\Sigma_{\\text{Br}}$ share common vertex. ```False``` otherwise.\n",
    "\n",
    "*Description*: Checks for common bases of matroids corresponding to vertices of $\\Sigma_{\\text{Br}}$."
   ]
  },
  {
   "cell_type": "code",
   "execution_count": 11,
   "metadata": {},
   "outputs": [
    {
     "data": {
      "text/plain": [
       "removeBranchCVP (generic function with 1 method)"
      ]
     },
     "execution_count": 11,
     "metadata": {},
     "output_type": "execute_result"
    }
   ],
   "source": [
    "function branchDecomposition(graphOscar)\n",
    "    \n",
    "    g = Graphs.ne(graphOscar) - Graphs.nv(graphOscar) + 1\n",
    "    \n",
    "    if g==0\n",
    "        return \"tree\"\n",
    "    end\n",
    "    \n",
    "    BrVerts = leavesGraph(graphOscar)\n",
    "    BrEdges = [(i, first(Graphs.all_neighbors(graphOscar, i))) for i in BrVerts]\n",
    "    candidates = unique!([e[2] for e in BrEdges])\n",
    "        \n",
    "    stop = false\n",
    "    i=0\n",
    "    \n",
    "    while !stop\n",
    "        \n",
    "        D = Dict([i => [j for j in Graphs.all_neighbors(graphOscar,i) if j ∉ BrVerts] for i in candidates])     \n",
    "        #println(\"D = \", D)\n",
    "        newCandidates = [i for i in keys(D) if length(D[i]) == 1]\n",
    "        \n",
    "        if length(newCandidates) == 0\n",
    "            stop = true\n",
    "        else\n",
    "            unique!(append!(BrVerts, newCandidates))\n",
    "            unique!(append!(BrEdges, [(i, first(D[i])) for i in newCandidates]))\n",
    "            precandidates = unique!([e[2] for e in BrEdges])   \n",
    "            candidates = [i for i in precandidates if i ∉ BrVerts]\n",
    "        end\n",
    "        #println(\"BrVerts = \", BrVerts)\n",
    "        #println(\"BrEdges = \", BrEdges)\n",
    "        #println(\"candidates = \", candidates)\n",
    "\n",
    "        i+=1\n",
    "    end\n",
    "    \n",
    "    \n",
    "    Center = [i for i in 1:Graphs.nv(graphOscar) if i ∉ BrVerts ]\n",
    "            \n",
    "       \n",
    "    return (BrVerts, BrEdges, Center)\n",
    "    \n",
    "end\n",
    "\n",
    "function removeBranchCVP(w)\n",
    "    subdwt = SubdivisionOfPoints(vDelta38[:,2:9], -w)\n",
    "    Gr = subdwt.pm_subdivision.POLYHEDRAL_COMPLEX.DUAL_GRAPH\n",
    "    GrO = Graphs.Graph{Graphs.Undirected}(Gr.ADJACENCY)\n",
    "    Ms = subd2Matroids(subdwt,3,8)\n",
    "    \n",
    "    g = Graphs.ne(GrO) - Graphs.nv(GrO) + 1\n",
    "    \n",
    "    if g == 0\n",
    "        return \"dual graph is tree\"\n",
    "    end\n",
    "    \n",
    "    BrV, BrE, C = branchDecomposition(GrO)\n",
    "    \n",
    "    commonB = commonBasis([Ms[i] for i in C])\n",
    "    \n",
    "    return length(commonB) > 0    \n",
    "    \n",
    "end\n"
   ]
  },
  {
   "cell_type": "markdown",
   "metadata": {},
   "source": [
    "**Function** ```get_edges```\n",
    "\n",
    "*Input*: ```subd```\n",
    "\n",
    "*Output* ```Set``` containing pairs of vertices corresponding to edges of $\\Gamma(w)$. Note that at the time we performed these computations, Oscar did not yet have this as a build in functionality."
   ]
  },
  {
   "cell_type": "code",
   "execution_count": 12,
   "metadata": {},
   "outputs": [
    {
     "data": {
      "text/plain": [
       "get_edges (generic function with 1 method)"
      ]
     },
     "execution_count": 12,
     "metadata": {},
     "output_type": "execute_result"
    }
   ],
   "source": [
    "function get_edges(subd)\n",
    "    Gra = subd.pm_subdivision.POLYHEDRAL_COMPLEX.DUAL_GRAPH\n",
    "    \n",
    "    gdual = Graphs.Graph{Graphs.Undirected}(Gra.ADJACENCY)\n",
    "    edges = collect(Graphs.edges(gdual))\n",
    "    edges_set = Set{Set}()\n",
    "    for i in 1:length(edges)\n",
    "        Ei = edges[i]\n",
    "        edge = Set([Ei.source, Ei.target])\n",
    "        push!(edges_set,edge)\n",
    "    end\n",
    "    return(edges_set)\n",
    "end"
   ]
  },
  {
   "cell_type": "markdown",
   "metadata": {},
   "source": [
    "**Function**: ```find_fin```\n",
    "\n",
    "*Input*: ```Mp```, ```Gra```, ```subd```\n",
    "\n",
    "*Output*: ```Set``` of pairs $(F_i, e_i)$, where $F_i$ is a fin on $\\Gamma(w)$, and $e_i$ are edges contained in $F_i$ and the rest of $\\Gamma(w)$.\n",
    "\n",
    "*Description*: Identifies faces of $\\text{TS}(w)$ that are not leaves. Checks if the intersection of the such a face with the rest of the tightspan is contained in the set of edges. Returns pairs $(F_i, \\{e_i\\})$ where the $e_i$ are the intersections of the fin with the rest of the tight span."
   ]
  },
  {
   "cell_type": "code",
   "execution_count": 13,
   "metadata": {},
   "outputs": [
    {
     "data": {
      "text/plain": [
       "find_fin (generic function with 1 method)"
      ]
     },
     "execution_count": 13,
     "metadata": {},
     "output_type": "execute_result"
    }
   ],
   "source": [
    "\n",
    "#find fins\n",
    "\n",
    "function find_fin(Mp,Gra,subd)\n",
    "    \n",
    "    edges_set = get_edges(subd)\n",
    "    \n",
    "#eliminate leaves\n",
    "    not_leaves = Set{Int64}()\n",
    "    for t in 1:size(Mp,1)\n",
    "        Mt = pm.row(Mp,t)\n",
    "        if length(Mt)>2\n",
    "            push!(not_leaves,t)\n",
    "        else\n",
    "        int = intersect(Mt,not_cell(Mp,t))\n",
    "        if length(int)>1\n",
    "            push!(not_leaves,t)\n",
    "        end\n",
    "        end\n",
    "    end\n",
    "#collect fins and connecting edge\n",
    "    \n",
    "    fins_n_edges = Vector()\n",
    "    \n",
    "    for i in not_leaves\n",
    "        body = Set{Int64}()\n",
    "        for t in not_leaves\n",
    "            if t != i\n",
    "                Mt = pm.row(Mp,t)\n",
    "                body = union(body,Mt)\n",
    "            end\n",
    "        end\n",
    "        \n",
    "        Mi = pm.row(Mp,i)\n",
    "        int = intersect(Mi,body)\n",
    "        \n",
    "        if int in edges_set\n",
    "            push!(fins_n_edges,(collect(Mi),collect(int)))\n",
    "        end\n",
    "    end \n",
    "    \n",
    "    return(fins_n_edges)\n",
    "end\n"
   ]
  },
  {
   "cell_type": "markdown",
   "metadata": {},
   "source": [
    "**function** ```find_body```\n",
    "\n",
    "*Input*: ```Mp```, ```Gra```, ```subd```\n",
    "\n",
    "*Output*: ```Vector``` of vertices corresponding to maximal polytopes in $\\text{TS}(w)$ that are not fins or leaves.\n",
    "\n",
    "*Description*: Identifies fins and leaves, then collects vertices in definned/deleafed component of tight span in a vector. The output is in vector form so we can use random access on elements later."
   ]
  },
  {
   "cell_type": "code",
   "execution_count": 14,
   "metadata": {},
   "outputs": [
    {
     "data": {
      "text/plain": [
       "find_body (generic function with 1 method)"
      ]
     },
     "execution_count": 14,
     "metadata": {},
     "output_type": "execute_result"
    }
   ],
   "source": [
    "#find body\n",
    "\n",
    "\n",
    "function find_body(Mp,Gra,subd)\n",
    "    \n",
    "\n",
    "    \n",
    "    finds = find_fin(Mp,Gra,subd)\n",
    "   \n",
    "    common_edges = Vector()\n",
    "    \n",
    "    if length(finds)>0\n",
    "        \n",
    "    for i in length(finds)\n",
    "        \n",
    "     push!(common_edges,finds[i][2])\n",
    "        \n",
    "    end\n",
    "    \n",
    "    end\n",
    "    edges_set =get_edges(subd)\n",
    "    \n",
    "#eliminate leaves\n",
    "    not_leaves = Set{Int64}()\n",
    "    for t in 1:size(Mp,1)\n",
    "        Mt = pm.row(Mp,t)\n",
    "        int = intersect(Mt,not_cell(Mp,t))\n",
    "        if length(int)>1\n",
    "            push!(not_leaves,t)\n",
    "        end\n",
    "    end\n",
    "#remove fins\n",
    "    not_fins = Vector{Int64}()\n",
    "    for i in not_leaves\n",
    "        body = Set{Int64}()\n",
    "        for t in not_leaves\n",
    "            if t != i\n",
    "                Mt = pm.row(Mp,t)\n",
    "                union!(body,Mt)\n",
    "            end\n",
    "        end\n",
    "        Mi = pm.row(Mp,i)\n",
    "        int = intersect(Mi,body)\n",
    "        if int in edges_set\n",
    "        else\n",
    "            push!(not_fins,i)\n",
    "        end\n",
    "    end \n",
    "    #collect vertices in definned component\n",
    "    max_cells = Set()\n",
    "        \n",
    "        if length(common_edges)>0\n",
    "            for edge in common_edges\n",
    "                union!(max_cells,edge)\n",
    "            end\n",
    "        end\n",
    "    \n",
    "        for i in not_fins\n",
    "            Mi = pm.row(Mp,i)\n",
    "            max_cells = union(max_cells, Mi)\n",
    "        end\n",
    "        max_cells_vec = collect(max_cells)\n",
    "        return max_cells_vec\n",
    "end"
   ]
  },
  {
   "cell_type": "markdown",
   "metadata": {},
   "source": [
    "**function**: ```fin_cvp```\n",
    "\n",
    "*Input*: ```Mp```, ```Gra```, ```subd```, ```Mc```\n",
    "\n",
    "*Output*: ```Set``` of common vertices of maximal cells of $\\mathcal{Q}(w)$ corresponding to vertices of definned  deleafed tightspan.\n",
    "\n",
    "*Description*: See if matroids corresponding to these cells share a common basis.\n",
    "\n"
   ]
  },
  {
   "cell_type": "code",
   "execution_count": 15,
   "metadata": {},
   "outputs": [
    {
     "data": {
      "text/plain": [
       "fin_cvp (generic function with 1 method)"
      ]
     },
     "execution_count": 15,
     "metadata": {},
     "output_type": "execute_result"
    }
   ],
   "source": [
    "#deleaf, defin, cvp\n",
    "\n",
    "function fin_cvp(Mp,Gra,subd,Mc)\n",
    "    body = find_body(Mp,Gra,subd)\n",
    "    fin_Int = pm.row(Mc,body[1])\n",
    "    for i in body\n",
    "        Mi = pm.row(Mc,i)\n",
    "        fin_Int = intersect(fin_Int,Mi)\n",
    "    end\n",
    "    return fin_Int\n",
    "end\n",
    "    "
   ]
  },
  {
   "cell_type": "markdown",
   "metadata": {},
   "source": [
    "```all_cones``` = collection of all cones of $\\text{TGr}_{0}(3,8)$ as representative height functions from interior."
   ]
  },
  {
   "cell_type": "code",
   "execution_count": 22,
   "metadata": {
    "scrolled": true
   },
   "outputs": [
    {
     "data": {
      "text/plain": [
       "57343-element Vector{Vector{Int64}}:\n",
       " [95, -164, -255, -255, 95, -164, 95, 354, 354, -332  …  -332, 354, -255, 354, -255, 95, -458, -332, 354, 354]\n",
       " [47, -79, -93, -198, 180, 173, 47, 33, 33, -359  …  -93, 180, 173, 180, 173, -254, -184, -191, -128, -128]\n",
       " [-104, -125, -251, -251, -104, -153, -104, 225, 225, -104  …  -314, 204, -230, 204, -230, -48, -258, -342, 176, 176]\n",
       " [31, -172, 31, -389, 290, 290, 24, -123, -88, -214  …  24, 248, 248, 283, 283, -354, -214, -214, -326, -291]\n",
       " [276, -354, -123, -305, 276, 115, 276, 87, 115, -354  …  -25, 346, 185, 374, 213, -256, -375, -186, 185, 213]\n",
       " [-105, -420, -455, -455, 91, 91, -273, 322, 322, 238  …  -420, 462, 462, 462, 462, -378, -259, -259, -238, -238]\n",
       " [23, -194, -89, -369, 310, 310, 16, -89, -54, -250  …  -54, 310, 310, 345, 345, -432, -320, -320, -292, -257]\n",
       " [-107, -23, 68, -86, 250, 243, -107, -247, -191, -240  …  -37, 89, 82, 145, 138, -86, -135, -142, -226, -170]\n",
       " [174, -190, -281, -379, 174, -22, 111, 230, 237, -281  …  -183, 265, 69, 272, 76, -106, -379, -225, 223, 230]\n",
       " [60, -59, -59, -248, 151, 151, 53, -52, -31, 53  …  -17, 172, 172, 193, 193, -94, -227, -227, -164, -143]\n",
       " [29, -272, 29, -328, 71, 57, 22, -223, 71, 155  …  162, 246, 232, 204, 190, -286, -230, -139, -55, -97]\n",
       " [-53, 31, 73, 73, 38, -151, 10, -158, -158, 17  …  -382, -81, 185, -81, 185, -165, -480, -109, 192, 192]\n",
       " [-41, -146, 106, -328, 253, 246, -48, -216, -125, -209  …  92, 148, 141, 239, 232, -307, -384, -286, -230, -139]\n",
       " ⋮\n",
       " [8, 8, -6, -6, 8, 8, 8, -6, -6, 8  …  -6, 8, 8, 8, 8, -13, -6, -6, 8, 8]\n",
       " [8, 1, 8, 1, 1, 1, 8, -90, 8, 8  …  1, 1, 1, -6, -6, -6, 1, 1, 1, -6]\n",
       " [-3, -3, -3, -24, -24, -3, -3, -3, 11, 11  …  11, 11, -3, -10, 11, 11, -10, -24, -24, -10]\n",
       " [29, 1, -13, -13, 29, -13, 29, 15, 15, -48  …  -13, 29, -13, 29, -13, 29, 15, -27, 15, 15]\n",
       " [23, -33, -33, -33, 23, 23, -61, 44, 44, -5  …  -12, 44, 44, 44, 44, -5, -61, -61, -5, -5]\n",
       " [-1, -1, -1, -1, -8, -8, 6, 6, 6, -1  …  -22, 6, 6, 6, 6, -1, 6, 6, -1, -1]\n",
       " [13, 13, -36, -36, 13, -57, -22, 34, 34, -22  …  -50, -1, 34, -1, 34, -22, -50, -15, 34, 34]\n",
       " [24, -32, 24, -67, 38, 38, 24, -25, -11, -11  …  24, 24, 24, 38, 38, -67, -11, -11, -11, 3]\n",
       " [4, -3, -3, -3, 4, -3, 4, 4, 4, -10  …  -3, 4, -3, 4, -3, 4, 4, -3, 4, 4]\n",
       " [25, -45, -38, -38, 25, 11, 25, 32, 32, -10  …  -10, 53, 39, 53, 39, -3, -45, -59, 4, 4]\n",
       " [34, -43, -43, -43, 20, 20, 34, 34, 34, -8  …  -15, 48, 48, 48, 48, 6, -57, -57, 6, 6]\n",
       " [43, 15, -6, -20, 43, 15, -41, 43, 29, -13  …  -20, 43, 15, 29, 1, -41, 8, -20, 43, 29]"
      ]
     },
     "execution_count": 22,
     "metadata": {},
     "output_type": "execute_result"
    }
   ],
   "source": [
    "all_cones = union(codim0,codim1,codim2,codim3,codim4,codim5,codim6,codim7)"
   ]
  },
  {
   "cell_type": "markdown",
   "metadata": {},
   "source": [
    " We now use the fucnctions defined above to sort matroidal subdivsions of $\\Delta(3,8)$ into 6 combinatorial types.\n",
    " \n",
    " \n",
    " G1: Maximal cells of $\\mathcal{Q}(w)$ share a common vertex.\n",
    " \n",
    " G2: $\\Gamma(w)$ is a tree\n",
    " \n",
    " G3: The maximal cells of $\\mathcal{Q}(w)$ corresponding to the subcomplex of $\\text{TS}(w)$ obtained by removing all leaves share a common vertex.\n",
    " \n",
    " G4: The maximal cells of $\\mathcal{Q}(w)$ corresponding to the subcomplex of $\\text{TS}(w)$ obtained by removing all branches share a common vertex.\n",
    " \n",
    " G5: The maximal cells of $\\mathcal{Q}(w)$ corresponding to the subcomplex of the tightspan obtained by first removing all leaves, and then removing all fins that intersect the body in a single edge, share a common vertex.\n",
    " \n",
    " G6: The maximal cells of $\\mathcal{Q}(w)$ corresponding to subcomplex obtained by removing all leaves and fins is a tree.\n",
    " \n",
    " Note that these categories are not mutually exclusive. However if a subdivision corresponding to $w$ is in $Gj$, then it is not in $Gi$ for $i<j$.\n",
    " \n",
    " Sorting matroid subdivisions up to symmetry in this way gives us a complete classification of all combinatorial types, for which we develop theory to prove properites about inverse limits.\n",
    " \n",
    " The code below loops through all representative height functions for cones, checking for the properties and then adding the height function to the correct list.\n",
    "  "
   ]
  },
  {
   "cell_type": "code",
   "execution_count": 24,
   "metadata": {},
   "outputs": [
    {
     "name": "stdout",
     "output_type": "stream",
     "text": [
      "DONE :)"
     ]
    }
   ],
   "source": [
    "#grand scheme\n",
    "\n",
    "for i in 42454:length(all_cones)\n",
    "    vDelta\n",
    "    #cone=coneRep2InteriorVector(S8,rays,MaxCones38[i])#representative of cone I am working with\n",
    "    \n",
    "    cone = all_cones[i]\n",
    "    subd = SubdivisionOfPoints(vDelta38[:,2:9], -cone)#subdivision corresponding to cone\n",
    "    Gra = subd.pm_subdivision.POLYHEDRAL_COMPLEX.DUAL_GRAPH\n",
    "    Tmc = subd.pm_subdivision.TIGHT_SPAN\n",
    "    Mp = Tmc.MAXIMAL_POLYTOPES\n",
    "    Mc = subd.pm_subdivision.MAXIMAL_CELLS\n",
    "    graphOscar = Graphs.Graph{Graphs.Undirected}(Gra.ADJACENCY)\n",
    "\n",
    "    gdual = Graphs.Graph{Graphs.Undirected}(Gra.ADJACENCY)\n",
    "    edges = collect(Graphs.edges(gdual))\n",
    "    edges_set = Set{Set}()\n",
    "    for i in 1:length(edges)\n",
    "        Ei = edges[i]\n",
    "        edge = Set([Ei.source, Ei.target])\n",
    "        push!(edges_set,edge)\n",
    "    end\n",
    "\n",
    " if length(common_vertex(Mc))>0\n",
    "       \n",
    "        \n",
    "        txtcvp = vec2String(cone)\n",
    "        open(\"save_grand_scheme2/cvp4.dat\", \"a\")do file\n",
    "        write(file, txtcvp,\"\\n\")\n",
    "        end\n",
    "        continue\n",
    "        \n",
    " elseif is_tree(Gra,Tmc) == 0 #F = E -V + 1\n",
    "       \n",
    "        \n",
    "        txttree = vec2String(cone)\n",
    "        open(\"save_grand_scheme2/tree4.dat\", \"a\")do file\n",
    "        write(file, txttree,\"\\n\")\n",
    "        end\n",
    "        continue\n",
    "\n",
    "elseif length(deleaf(Mp))>0\n",
    "        \n",
    "        \n",
    "        txtleaf = vec2String(cone)\n",
    "        open(\"save_grand_scheme2/leaf_cvp4.dat\", \"a\")do file\n",
    "        write(file, txtleaf,\"\\n\")\n",
    "        end\n",
    "        continue\n",
    "    \n",
    "elseif removeBranchCVP(cone)\n",
    "        \n",
    "        txtbranch = vec2String(cone)\n",
    "        open(\"save_grand_scheme2/branch_cvp4.dat\", \"a\")do file\n",
    "        write(file, txtbranch,\"\\n\")\n",
    "        end\n",
    "        print\n",
    "        continue\n",
    "    \n",
    "elseif length(fin_cvp(Mp,Gra,subd,Mc))>0\n",
    "    \n",
    "        txtfin = vec2String(cone)\n",
    "        open(\"save_grand_scheme2/fin_cvp4.dat\", \"a\")do file\n",
    "        write(file, txtfin,\"\\n\")\n",
    "            end\n",
    "        continue\n",
    "else\n",
    "        \n",
    "        \n",
    "        txtother = vec2String(cone)\n",
    "        open(\"save_grand_scheme2/other4.dat\", \"a\")do file\n",
    "        write(file, txtother,\"\\n\")\n",
    "        end\n",
    "        continue\n",
    "    end\n",
    "\n",
    "end\n",
    "\n",
    "print(\"DONE :)\")"
   ]
  },
  {
   "cell_type": "code",
   "execution_count": null,
   "metadata": {},
   "outputs": [],
   "source": []
  }
 ],
 "metadata": {
  "kernelspec": {
   "display_name": "Julia 1.7.1",
   "language": "julia",
   "name": "julia-1.7"
  },
  "language_info": {
   "file_extension": ".jl",
   "mimetype": "application/julia",
   "name": "julia",
   "version": "1.7.3"
  }
 },
 "nbformat": 4,
 "nbformat_minor": 4
}
